{
  "nbformat": 4,
  "nbformat_minor": 0,
  "metadata": {
    "colab": {
      "provenance": []
    },
    "kernelspec": {
      "name": "python3",
      "display_name": "Python 3"
    },
    "language_info": {
      "name": "python"
    }
  },
  "cells": [
    {
      "cell_type": "markdown",
      "source": [
        "#Import Package"
      ],
      "metadata": {
        "id": "djktxJ6TSe_k"
      }
    },
    {
      "cell_type": "code",
      "execution_count": null,
      "metadata": {
        "id": "zTUzElcfSUWk"
      },
      "outputs": [],
      "source": [
        "import pandas as pd"
      ]
    },
    {
      "cell_type": "code",
      "source": [
        "from google.colab import drive \n",
        "drive.mount('/content/gdrive')"
      ],
      "metadata": {
        "id": "Ls5gGSmUSlYs",
        "colab": {
          "base_uri": "https://localhost:8080/"
        },
        "outputId": "6c21e4b1-1995-4871-fd4b-bf8f950662eb"
      },
      "execution_count": null,
      "outputs": [
        {
          "output_type": "stream",
          "name": "stdout",
          "text": [
            "Mounted at /content/gdrive\n"
          ]
        }
      ]
    },
    {
      "cell_type": "code",
      "source": [
        "df_ayam=pd.read_csv('gdrive/My Drive/Capstone Product Based/ML/datasets/dataset-ayam.csv')\n",
        "df_ikan=pd.read_csv('gdrive/My Drive/Capstone Product Based/ML/datasets/dataset-ikan.csv')\n",
        "df_kambing=pd.read_csv('gdrive/My Drive/Capstone Product Based/ML/datasets/dataset-kambing.csv')\n",
        "df_sapi=pd.read_csv('gdrive/My Drive/Capstone Product Based/ML/datasets/dataset-sapi.csv')\n",
        "df_tahu=pd.read_csv('gdrive/My Drive/Capstone Product Based/ML/datasets/dataset-tahu.csv')\n",
        "df_telur=pd.read_csv('gdrive/My Drive/Capstone Product Based/ML/datasets/dataset-telur.csv')\n",
        "df_tempe=pd.read_csv('gdrive/My Drive/Capstone Product Based/ML/datasets/dataset-tempe.csv')\n",
        "df_udang=pd.read_csv('gdrive/My Drive/Capstone Product Based/ML/datasets/dataset-udang.csv')"
      ],
      "metadata": {
        "id": "eI3KQhNmTcR0",
        "colab": {
          "base_uri": "https://localhost:8080/",
          "height": 417
        },
        "outputId": "92b5d2c1-0df5-4d9e-c2fb-7e7142b40a53"
      },
      "execution_count": null,
      "outputs": [
        {
          "output_type": "error",
          "ename": "FileNotFoundError",
          "evalue": "ignored",
          "traceback": [
            "\u001b[0;31m---------------------------------------------------------------------------\u001b[0m",
            "\u001b[0;31mFileNotFoundError\u001b[0m                         Traceback (most recent call last)",
            "\u001b[0;32m<ipython-input-4-241601d58b01>\u001b[0m in \u001b[0;36m<cell line: 1>\u001b[0;34m()\u001b[0m\n\u001b[0;32m----> 1\u001b[0;31m \u001b[0mdf_ayam\u001b[0m\u001b[0;34m=\u001b[0m\u001b[0mpd\u001b[0m\u001b[0;34m.\u001b[0m\u001b[0mread_csv\u001b[0m\u001b[0;34m(\u001b[0m\u001b[0;34m'gdrive/My Drive/Capstone Product Based/ML/datasets/dataset-ayam.csv'\u001b[0m\u001b[0;34m)\u001b[0m\u001b[0;34m\u001b[0m\u001b[0;34m\u001b[0m\u001b[0m\n\u001b[0m\u001b[1;32m      2\u001b[0m \u001b[0mdf_ikan\u001b[0m\u001b[0;34m=\u001b[0m\u001b[0mpd\u001b[0m\u001b[0;34m.\u001b[0m\u001b[0mread_csv\u001b[0m\u001b[0;34m(\u001b[0m\u001b[0;34m'gdrive/My Drive/Capstone Product Based/ML/datasets/dataset-ikan.csv'\u001b[0m\u001b[0;34m)\u001b[0m\u001b[0;34m\u001b[0m\u001b[0;34m\u001b[0m\u001b[0m\n\u001b[1;32m      3\u001b[0m \u001b[0mdf_kambing\u001b[0m\u001b[0;34m=\u001b[0m\u001b[0mpd\u001b[0m\u001b[0;34m.\u001b[0m\u001b[0mread_csv\u001b[0m\u001b[0;34m(\u001b[0m\u001b[0;34m'gdrive/My Drive/Capstone Product Based/ML/datasets/dataset-kambing.csv'\u001b[0m\u001b[0;34m)\u001b[0m\u001b[0;34m\u001b[0m\u001b[0;34m\u001b[0m\u001b[0m\n\u001b[1;32m      4\u001b[0m \u001b[0mdf_sapi\u001b[0m\u001b[0;34m=\u001b[0m\u001b[0mpd\u001b[0m\u001b[0;34m.\u001b[0m\u001b[0mread_csv\u001b[0m\u001b[0;34m(\u001b[0m\u001b[0;34m'gdrive/My Drive/Capstone Product Based/ML/datasets/dataset-sapi.csv'\u001b[0m\u001b[0;34m)\u001b[0m\u001b[0;34m\u001b[0m\u001b[0;34m\u001b[0m\u001b[0m\n\u001b[1;32m      5\u001b[0m \u001b[0mdf_tahu\u001b[0m\u001b[0;34m=\u001b[0m\u001b[0mpd\u001b[0m\u001b[0;34m.\u001b[0m\u001b[0mread_csv\u001b[0m\u001b[0;34m(\u001b[0m\u001b[0;34m'gdrive/My Drive/Capstone Product Based/ML/datasets/dataset-tahu.csv'\u001b[0m\u001b[0;34m)\u001b[0m\u001b[0;34m\u001b[0m\u001b[0;34m\u001b[0m\u001b[0m\n",
            "\u001b[0;32m/usr/local/lib/python3.10/dist-packages/pandas/util/_decorators.py\u001b[0m in \u001b[0;36mwrapper\u001b[0;34m(*args, **kwargs)\u001b[0m\n\u001b[1;32m    209\u001b[0m                 \u001b[0;32melse\u001b[0m\u001b[0;34m:\u001b[0m\u001b[0;34m\u001b[0m\u001b[0;34m\u001b[0m\u001b[0m\n\u001b[1;32m    210\u001b[0m                     \u001b[0mkwargs\u001b[0m\u001b[0;34m[\u001b[0m\u001b[0mnew_arg_name\u001b[0m\u001b[0;34m]\u001b[0m \u001b[0;34m=\u001b[0m \u001b[0mnew_arg_value\u001b[0m\u001b[0;34m\u001b[0m\u001b[0;34m\u001b[0m\u001b[0m\n\u001b[0;32m--> 211\u001b[0;31m             \u001b[0;32mreturn\u001b[0m \u001b[0mfunc\u001b[0m\u001b[0;34m(\u001b[0m\u001b[0;34m*\u001b[0m\u001b[0margs\u001b[0m\u001b[0;34m,\u001b[0m \u001b[0;34m**\u001b[0m\u001b[0mkwargs\u001b[0m\u001b[0;34m)\u001b[0m\u001b[0;34m\u001b[0m\u001b[0;34m\u001b[0m\u001b[0m\n\u001b[0m\u001b[1;32m    212\u001b[0m \u001b[0;34m\u001b[0m\u001b[0m\n\u001b[1;32m    213\u001b[0m         \u001b[0;32mreturn\u001b[0m \u001b[0mcast\u001b[0m\u001b[0;34m(\u001b[0m\u001b[0mF\u001b[0m\u001b[0;34m,\u001b[0m \u001b[0mwrapper\u001b[0m\u001b[0;34m)\u001b[0m\u001b[0;34m\u001b[0m\u001b[0;34m\u001b[0m\u001b[0m\n",
            "\u001b[0;32m/usr/local/lib/python3.10/dist-packages/pandas/util/_decorators.py\u001b[0m in \u001b[0;36mwrapper\u001b[0;34m(*args, **kwargs)\u001b[0m\n\u001b[1;32m    329\u001b[0m                     \u001b[0mstacklevel\u001b[0m\u001b[0;34m=\u001b[0m\u001b[0mfind_stack_level\u001b[0m\u001b[0;34m(\u001b[0m\u001b[0;34m)\u001b[0m\u001b[0;34m,\u001b[0m\u001b[0;34m\u001b[0m\u001b[0;34m\u001b[0m\u001b[0m\n\u001b[1;32m    330\u001b[0m                 )\n\u001b[0;32m--> 331\u001b[0;31m             \u001b[0;32mreturn\u001b[0m \u001b[0mfunc\u001b[0m\u001b[0;34m(\u001b[0m\u001b[0;34m*\u001b[0m\u001b[0margs\u001b[0m\u001b[0;34m,\u001b[0m \u001b[0;34m**\u001b[0m\u001b[0mkwargs\u001b[0m\u001b[0;34m)\u001b[0m\u001b[0;34m\u001b[0m\u001b[0;34m\u001b[0m\u001b[0m\n\u001b[0m\u001b[1;32m    332\u001b[0m \u001b[0;34m\u001b[0m\u001b[0m\n\u001b[1;32m    333\u001b[0m         \u001b[0;31m# error: \"Callable[[VarArg(Any), KwArg(Any)], Any]\" has no\u001b[0m\u001b[0;34m\u001b[0m\u001b[0;34m\u001b[0m\u001b[0m\n",
            "\u001b[0;32m/usr/local/lib/python3.10/dist-packages/pandas/io/parsers/readers.py\u001b[0m in \u001b[0;36mread_csv\u001b[0;34m(filepath_or_buffer, sep, delimiter, header, names, index_col, usecols, squeeze, prefix, mangle_dupe_cols, dtype, engine, converters, true_values, false_values, skipinitialspace, skiprows, skipfooter, nrows, na_values, keep_default_na, na_filter, verbose, skip_blank_lines, parse_dates, infer_datetime_format, keep_date_col, date_parser, dayfirst, cache_dates, iterator, chunksize, compression, thousands, decimal, lineterminator, quotechar, quoting, doublequote, escapechar, comment, encoding, encoding_errors, dialect, error_bad_lines, warn_bad_lines, on_bad_lines, delim_whitespace, low_memory, memory_map, float_precision, storage_options)\u001b[0m\n\u001b[1;32m    948\u001b[0m     \u001b[0mkwds\u001b[0m\u001b[0;34m.\u001b[0m\u001b[0mupdate\u001b[0m\u001b[0;34m(\u001b[0m\u001b[0mkwds_defaults\u001b[0m\u001b[0;34m)\u001b[0m\u001b[0;34m\u001b[0m\u001b[0;34m\u001b[0m\u001b[0m\n\u001b[1;32m    949\u001b[0m \u001b[0;34m\u001b[0m\u001b[0m\n\u001b[0;32m--> 950\u001b[0;31m     \u001b[0;32mreturn\u001b[0m \u001b[0m_read\u001b[0m\u001b[0;34m(\u001b[0m\u001b[0mfilepath_or_buffer\u001b[0m\u001b[0;34m,\u001b[0m \u001b[0mkwds\u001b[0m\u001b[0;34m)\u001b[0m\u001b[0;34m\u001b[0m\u001b[0;34m\u001b[0m\u001b[0m\n\u001b[0m\u001b[1;32m    951\u001b[0m \u001b[0;34m\u001b[0m\u001b[0m\n\u001b[1;32m    952\u001b[0m \u001b[0;34m\u001b[0m\u001b[0m\n",
            "\u001b[0;32m/usr/local/lib/python3.10/dist-packages/pandas/io/parsers/readers.py\u001b[0m in \u001b[0;36m_read\u001b[0;34m(filepath_or_buffer, kwds)\u001b[0m\n\u001b[1;32m    603\u001b[0m \u001b[0;34m\u001b[0m\u001b[0m\n\u001b[1;32m    604\u001b[0m     \u001b[0;31m# Create the parser.\u001b[0m\u001b[0;34m\u001b[0m\u001b[0;34m\u001b[0m\u001b[0m\n\u001b[0;32m--> 605\u001b[0;31m     \u001b[0mparser\u001b[0m \u001b[0;34m=\u001b[0m \u001b[0mTextFileReader\u001b[0m\u001b[0;34m(\u001b[0m\u001b[0mfilepath_or_buffer\u001b[0m\u001b[0;34m,\u001b[0m \u001b[0;34m**\u001b[0m\u001b[0mkwds\u001b[0m\u001b[0;34m)\u001b[0m\u001b[0;34m\u001b[0m\u001b[0;34m\u001b[0m\u001b[0m\n\u001b[0m\u001b[1;32m    606\u001b[0m \u001b[0;34m\u001b[0m\u001b[0m\n\u001b[1;32m    607\u001b[0m     \u001b[0;32mif\u001b[0m \u001b[0mchunksize\u001b[0m \u001b[0;32mor\u001b[0m \u001b[0miterator\u001b[0m\u001b[0;34m:\u001b[0m\u001b[0;34m\u001b[0m\u001b[0;34m\u001b[0m\u001b[0m\n",
            "\u001b[0;32m/usr/local/lib/python3.10/dist-packages/pandas/io/parsers/readers.py\u001b[0m in \u001b[0;36m__init__\u001b[0;34m(self, f, engine, **kwds)\u001b[0m\n\u001b[1;32m   1440\u001b[0m \u001b[0;34m\u001b[0m\u001b[0m\n\u001b[1;32m   1441\u001b[0m         \u001b[0mself\u001b[0m\u001b[0;34m.\u001b[0m\u001b[0mhandles\u001b[0m\u001b[0;34m:\u001b[0m \u001b[0mIOHandles\u001b[0m \u001b[0;34m|\u001b[0m \u001b[0;32mNone\u001b[0m \u001b[0;34m=\u001b[0m \u001b[0;32mNone\u001b[0m\u001b[0;34m\u001b[0m\u001b[0;34m\u001b[0m\u001b[0m\n\u001b[0;32m-> 1442\u001b[0;31m         \u001b[0mself\u001b[0m\u001b[0;34m.\u001b[0m\u001b[0m_engine\u001b[0m \u001b[0;34m=\u001b[0m \u001b[0mself\u001b[0m\u001b[0;34m.\u001b[0m\u001b[0m_make_engine\u001b[0m\u001b[0;34m(\u001b[0m\u001b[0mf\u001b[0m\u001b[0;34m,\u001b[0m \u001b[0mself\u001b[0m\u001b[0;34m.\u001b[0m\u001b[0mengine\u001b[0m\u001b[0;34m)\u001b[0m\u001b[0;34m\u001b[0m\u001b[0;34m\u001b[0m\u001b[0m\n\u001b[0m\u001b[1;32m   1443\u001b[0m \u001b[0;34m\u001b[0m\u001b[0m\n\u001b[1;32m   1444\u001b[0m     \u001b[0;32mdef\u001b[0m \u001b[0mclose\u001b[0m\u001b[0;34m(\u001b[0m\u001b[0mself\u001b[0m\u001b[0;34m)\u001b[0m \u001b[0;34m->\u001b[0m \u001b[0;32mNone\u001b[0m\u001b[0;34m:\u001b[0m\u001b[0;34m\u001b[0m\u001b[0;34m\u001b[0m\u001b[0m\n",
            "\u001b[0;32m/usr/local/lib/python3.10/dist-packages/pandas/io/parsers/readers.py\u001b[0m in \u001b[0;36m_make_engine\u001b[0;34m(self, f, engine)\u001b[0m\n\u001b[1;32m   1733\u001b[0m                 \u001b[0;32mif\u001b[0m \u001b[0;34m\"b\"\u001b[0m \u001b[0;32mnot\u001b[0m \u001b[0;32min\u001b[0m \u001b[0mmode\u001b[0m\u001b[0;34m:\u001b[0m\u001b[0;34m\u001b[0m\u001b[0;34m\u001b[0m\u001b[0m\n\u001b[1;32m   1734\u001b[0m                     \u001b[0mmode\u001b[0m \u001b[0;34m+=\u001b[0m \u001b[0;34m\"b\"\u001b[0m\u001b[0;34m\u001b[0m\u001b[0;34m\u001b[0m\u001b[0m\n\u001b[0;32m-> 1735\u001b[0;31m             self.handles = get_handle(\n\u001b[0m\u001b[1;32m   1736\u001b[0m                 \u001b[0mf\u001b[0m\u001b[0;34m,\u001b[0m\u001b[0;34m\u001b[0m\u001b[0;34m\u001b[0m\u001b[0m\n\u001b[1;32m   1737\u001b[0m                 \u001b[0mmode\u001b[0m\u001b[0;34m,\u001b[0m\u001b[0;34m\u001b[0m\u001b[0;34m\u001b[0m\u001b[0m\n",
            "\u001b[0;32m/usr/local/lib/python3.10/dist-packages/pandas/io/common.py\u001b[0m in \u001b[0;36mget_handle\u001b[0;34m(path_or_buf, mode, encoding, compression, memory_map, is_text, errors, storage_options)\u001b[0m\n\u001b[1;32m    854\u001b[0m         \u001b[0;32mif\u001b[0m \u001b[0mioargs\u001b[0m\u001b[0;34m.\u001b[0m\u001b[0mencoding\u001b[0m \u001b[0;32mand\u001b[0m \u001b[0;34m\"b\"\u001b[0m \u001b[0;32mnot\u001b[0m \u001b[0;32min\u001b[0m \u001b[0mioargs\u001b[0m\u001b[0;34m.\u001b[0m\u001b[0mmode\u001b[0m\u001b[0;34m:\u001b[0m\u001b[0;34m\u001b[0m\u001b[0;34m\u001b[0m\u001b[0m\n\u001b[1;32m    855\u001b[0m             \u001b[0;31m# Encoding\u001b[0m\u001b[0;34m\u001b[0m\u001b[0;34m\u001b[0m\u001b[0m\n\u001b[0;32m--> 856\u001b[0;31m             handle = open(\n\u001b[0m\u001b[1;32m    857\u001b[0m                 \u001b[0mhandle\u001b[0m\u001b[0;34m,\u001b[0m\u001b[0;34m\u001b[0m\u001b[0;34m\u001b[0m\u001b[0m\n\u001b[1;32m    858\u001b[0m                 \u001b[0mioargs\u001b[0m\u001b[0;34m.\u001b[0m\u001b[0mmode\u001b[0m\u001b[0;34m,\u001b[0m\u001b[0;34m\u001b[0m\u001b[0;34m\u001b[0m\u001b[0m\n",
            "\u001b[0;31mFileNotFoundError\u001b[0m: [Errno 2] No such file or directory: 'gdrive/My Drive/Capstone Product Based/ML/datasets/dataset-ayam.csv'"
          ]
        }
      ]
    },
    {
      "cell_type": "code",
      "source": [
        "df_ayam['tag'] ='ayam'\n",
        "df_ikan['tag'] ='ikan'\n",
        "df_kambing['tag'] ='kambing'\n",
        "df_sapi['tag'] ='sapi'\n",
        "df_tahu['tag'] ='tahu'\n",
        "df_telur['tag'] ='telur'\n",
        "df_tempe['tag'] ='tempe'\n",
        "df_udang['tag'] ='udang'"
      ],
      "metadata": {
        "id": "i3DdpvMmMwAe"
      },
      "execution_count": null,
      "outputs": []
    },
    {
      "cell_type": "code",
      "source": [
        "df = pd.concat([df_ayam,df_ikan,df_kambing,df_sapi,df_tahu,df_telur,df_tempe,df_udang], ignore_index=True)"
      ],
      "metadata": {
        "id": "r0lLbgqOUciT"
      },
      "execution_count": null,
      "outputs": []
    },
    {
      "cell_type": "code",
      "source": [
        "df.to_csv('data.csv', index=False)"
      ],
      "metadata": {
        "id": "PgBleYoP4xzW"
      },
      "execution_count": null,
      "outputs": []
    },
    {
      "cell_type": "markdown",
      "source": [
        "#DATA EXPLORATION"
      ],
      "metadata": {
        "id": "h-qUfg4nUybq"
      }
    },
    {
      "cell_type": "code",
      "source": [
        "df.head()"
      ],
      "metadata": {
        "id": "bo3H5VhFUv5o",
        "colab": {
          "base_uri": "https://localhost:8080/",
          "height": 206
        },
        "outputId": "22de9848-dab3-4b36-e3a5-618481940e99"
      },
      "execution_count": null,
      "outputs": [
        {
          "output_type": "execute_result",
          "data": {
            "text/plain": [
              "                      Title  \\\n",
              "0          Ayam Woku Manado   \n",
              "1  Ayam goreng tulang lunak   \n",
              "2          Ayam cabai kawin   \n",
              "3               Ayam Geprek   \n",
              "4               Minyak Ayam   \n",
              "\n",
              "                                         Ingredients  \\\n",
              "0  1 Ekor Ayam Kampung (potong 12)--2 Buah Jeruk ...   \n",
              "1  1 kg ayam (dipotong sesuai selera jangan kecil...   \n",
              "2  1/4 kg ayam--3 buah cabai hijau besar--7 buah ...   \n",
              "3  250 gr daging ayam (saya pakai fillet)--Secuku...   \n",
              "4  400 gr kulit ayam & lemaknya--8 siung bawang p...   \n",
              "\n",
              "                                               Steps  Loves  \\\n",
              "0  Cuci bersih ayam dan tiriskan. Lalu peras jeru...      1   \n",
              "1  Haluskan bumbu2nya (BaPut, ketumbar, kemiri, k...      1   \n",
              "2  Panaskan minyak di dalam wajan. Setelah minyak...      2   \n",
              "3  Goreng ayam seperti ayam krispi--Ulek semua ba...     10   \n",
              "4  Cuci bersih kulit ayam. Sisihkan--Ambil 50 ml ...      4   \n",
              "\n",
              "                                          URL   tag  \n",
              "0          /id/resep/4473027-ayam-woku-manado  ayam  \n",
              "1  /id/resep/4471956-ayam-goreng-tulang-lunak  ayam  \n",
              "2          /id/resep/4473057-ayam-cabai-kawin  ayam  \n",
              "3               /id/resep/4473023-ayam-geprek  ayam  \n",
              "4               /id/resep/4427438-minyak-ayam  ayam  "
            ],
            "text/html": [
              "\n",
              "  <div id=\"df-d71a5501-f53a-420c-abda-5557e7d3627e\">\n",
              "    <div class=\"colab-df-container\">\n",
              "      <div>\n",
              "<style scoped>\n",
              "    .dataframe tbody tr th:only-of-type {\n",
              "        vertical-align: middle;\n",
              "    }\n",
              "\n",
              "    .dataframe tbody tr th {\n",
              "        vertical-align: top;\n",
              "    }\n",
              "\n",
              "    .dataframe thead th {\n",
              "        text-align: right;\n",
              "    }\n",
              "</style>\n",
              "<table border=\"1\" class=\"dataframe\">\n",
              "  <thead>\n",
              "    <tr style=\"text-align: right;\">\n",
              "      <th></th>\n",
              "      <th>Title</th>\n",
              "      <th>Ingredients</th>\n",
              "      <th>Steps</th>\n",
              "      <th>Loves</th>\n",
              "      <th>URL</th>\n",
              "      <th>tag</th>\n",
              "    </tr>\n",
              "  </thead>\n",
              "  <tbody>\n",
              "    <tr>\n",
              "      <th>0</th>\n",
              "      <td>Ayam Woku Manado</td>\n",
              "      <td>1 Ekor Ayam Kampung (potong 12)--2 Buah Jeruk ...</td>\n",
              "      <td>Cuci bersih ayam dan tiriskan. Lalu peras jeru...</td>\n",
              "      <td>1</td>\n",
              "      <td>/id/resep/4473027-ayam-woku-manado</td>\n",
              "      <td>ayam</td>\n",
              "    </tr>\n",
              "    <tr>\n",
              "      <th>1</th>\n",
              "      <td>Ayam goreng tulang lunak</td>\n",
              "      <td>1 kg ayam (dipotong sesuai selera jangan kecil...</td>\n",
              "      <td>Haluskan bumbu2nya (BaPut, ketumbar, kemiri, k...</td>\n",
              "      <td>1</td>\n",
              "      <td>/id/resep/4471956-ayam-goreng-tulang-lunak</td>\n",
              "      <td>ayam</td>\n",
              "    </tr>\n",
              "    <tr>\n",
              "      <th>2</th>\n",
              "      <td>Ayam cabai kawin</td>\n",
              "      <td>1/4 kg ayam--3 buah cabai hijau besar--7 buah ...</td>\n",
              "      <td>Panaskan minyak di dalam wajan. Setelah minyak...</td>\n",
              "      <td>2</td>\n",
              "      <td>/id/resep/4473057-ayam-cabai-kawin</td>\n",
              "      <td>ayam</td>\n",
              "    </tr>\n",
              "    <tr>\n",
              "      <th>3</th>\n",
              "      <td>Ayam Geprek</td>\n",
              "      <td>250 gr daging ayam (saya pakai fillet)--Secuku...</td>\n",
              "      <td>Goreng ayam seperti ayam krispi--Ulek semua ba...</td>\n",
              "      <td>10</td>\n",
              "      <td>/id/resep/4473023-ayam-geprek</td>\n",
              "      <td>ayam</td>\n",
              "    </tr>\n",
              "    <tr>\n",
              "      <th>4</th>\n",
              "      <td>Minyak Ayam</td>\n",
              "      <td>400 gr kulit ayam &amp; lemaknya--8 siung bawang p...</td>\n",
              "      <td>Cuci bersih kulit ayam. Sisihkan--Ambil 50 ml ...</td>\n",
              "      <td>4</td>\n",
              "      <td>/id/resep/4427438-minyak-ayam</td>\n",
              "      <td>ayam</td>\n",
              "    </tr>\n",
              "  </tbody>\n",
              "</table>\n",
              "</div>\n",
              "      <button class=\"colab-df-convert\" onclick=\"convertToInteractive('df-d71a5501-f53a-420c-abda-5557e7d3627e')\"\n",
              "              title=\"Convert this dataframe to an interactive table.\"\n",
              "              style=\"display:none;\">\n",
              "        \n",
              "  <svg xmlns=\"http://www.w3.org/2000/svg\" height=\"24px\"viewBox=\"0 0 24 24\"\n",
              "       width=\"24px\">\n",
              "    <path d=\"M0 0h24v24H0V0z\" fill=\"none\"/>\n",
              "    <path d=\"M18.56 5.44l.94 2.06.94-2.06 2.06-.94-2.06-.94-.94-2.06-.94 2.06-2.06.94zm-11 1L8.5 8.5l.94-2.06 2.06-.94-2.06-.94L8.5 2.5l-.94 2.06-2.06.94zm10 10l.94 2.06.94-2.06 2.06-.94-2.06-.94-.94-2.06-.94 2.06-2.06.94z\"/><path d=\"M17.41 7.96l-1.37-1.37c-.4-.4-.92-.59-1.43-.59-.52 0-1.04.2-1.43.59L10.3 9.45l-7.72 7.72c-.78.78-.78 2.05 0 2.83L4 21.41c.39.39.9.59 1.41.59.51 0 1.02-.2 1.41-.59l7.78-7.78 2.81-2.81c.8-.78.8-2.07 0-2.86zM5.41 20L4 18.59l7.72-7.72 1.47 1.35L5.41 20z\"/>\n",
              "  </svg>\n",
              "      </button>\n",
              "      \n",
              "  <style>\n",
              "    .colab-df-container {\n",
              "      display:flex;\n",
              "      flex-wrap:wrap;\n",
              "      gap: 12px;\n",
              "    }\n",
              "\n",
              "    .colab-df-convert {\n",
              "      background-color: #E8F0FE;\n",
              "      border: none;\n",
              "      border-radius: 50%;\n",
              "      cursor: pointer;\n",
              "      display: none;\n",
              "      fill: #1967D2;\n",
              "      height: 32px;\n",
              "      padding: 0 0 0 0;\n",
              "      width: 32px;\n",
              "    }\n",
              "\n",
              "    .colab-df-convert:hover {\n",
              "      background-color: #E2EBFA;\n",
              "      box-shadow: 0px 1px 2px rgba(60, 64, 67, 0.3), 0px 1px 3px 1px rgba(60, 64, 67, 0.15);\n",
              "      fill: #174EA6;\n",
              "    }\n",
              "\n",
              "    [theme=dark] .colab-df-convert {\n",
              "      background-color: #3B4455;\n",
              "      fill: #D2E3FC;\n",
              "    }\n",
              "\n",
              "    [theme=dark] .colab-df-convert:hover {\n",
              "      background-color: #434B5C;\n",
              "      box-shadow: 0px 1px 3px 1px rgba(0, 0, 0, 0.15);\n",
              "      filter: drop-shadow(0px 1px 2px rgba(0, 0, 0, 0.3));\n",
              "      fill: #FFFFFF;\n",
              "    }\n",
              "  </style>\n",
              "\n",
              "      <script>\n",
              "        const buttonEl =\n",
              "          document.querySelector('#df-d71a5501-f53a-420c-abda-5557e7d3627e button.colab-df-convert');\n",
              "        buttonEl.style.display =\n",
              "          google.colab.kernel.accessAllowed ? 'block' : 'none';\n",
              "\n",
              "        async function convertToInteractive(key) {\n",
              "          const element = document.querySelector('#df-d71a5501-f53a-420c-abda-5557e7d3627e');\n",
              "          const dataTable =\n",
              "            await google.colab.kernel.invokeFunction('convertToInteractive',\n",
              "                                                     [key], {});\n",
              "          if (!dataTable) return;\n",
              "\n",
              "          const docLinkHtml = 'Like what you see? Visit the ' +\n",
              "            '<a target=\"_blank\" href=https://colab.research.google.com/notebooks/data_table.ipynb>data table notebook</a>'\n",
              "            + ' to learn more about interactive tables.';\n",
              "          element.innerHTML = '';\n",
              "          dataTable['output_type'] = 'display_data';\n",
              "          await google.colab.output.renderOutput(dataTable, element);\n",
              "          const docLink = document.createElement('div');\n",
              "          docLink.innerHTML = docLinkHtml;\n",
              "          element.appendChild(docLink);\n",
              "        }\n",
              "      </script>\n",
              "    </div>\n",
              "  </div>\n",
              "  "
            ]
          },
          "metadata": {},
          "execution_count": 6
        }
      ]
    },
    {
      "cell_type": "code",
      "source": [
        "df.info()"
      ],
      "metadata": {
        "id": "95zFUiHEU22r",
        "colab": {
          "base_uri": "https://localhost:8080/"
        },
        "outputId": "77420d9e-0924-4810-8bd9-008ebf5382d0"
      },
      "execution_count": null,
      "outputs": [
        {
          "output_type": "stream",
          "name": "stdout",
          "text": [
            "<class 'pandas.core.frame.DataFrame'>\n",
            "RangeIndex: 15641 entries, 0 to 15640\n",
            "Data columns (total 6 columns):\n",
            " #   Column       Non-Null Count  Dtype \n",
            "---  ------       --------------  ----- \n",
            " 0   Title        15641 non-null  object\n",
            " 1   Ingredients  15593 non-null  object\n",
            " 2   Steps        15595 non-null  object\n",
            " 3   Loves        15641 non-null  int64 \n",
            " 4   URL          15641 non-null  object\n",
            " 5   tag          15641 non-null  object\n",
            "dtypes: int64(1), object(5)\n",
            "memory usage: 733.3+ KB\n"
          ]
        }
      ]
    },
    {
      "cell_type": "markdown",
      "source": [
        "#Handling Missing Value"
      ],
      "metadata": {
        "id": "nP1ABcz6U-ql"
      }
    },
    {
      "cell_type": "markdown",
      "source": [
        "##Check Missing Value"
      ],
      "metadata": {
        "id": "YhhFQqUyVBHj"
      }
    },
    {
      "cell_type": "code",
      "source": [
        "missing = pd.isnull(df).sum()\n",
        "missing"
      ],
      "metadata": {
        "id": "u8tqw0qkVDVr",
        "colab": {
          "base_uri": "https://localhost:8080/",
          "height": 190
        },
        "outputId": "d139cd79-3e90-4599-ed36-7e4bf7d990ce"
      },
      "execution_count": null,
      "outputs": [
        {
          "output_type": "error",
          "ename": "NameError",
          "evalue": "ignored",
          "traceback": [
            "\u001b[0;31m---------------------------------------------------------------------------\u001b[0m",
            "\u001b[0;31mNameError\u001b[0m                                 Traceback (most recent call last)",
            "\u001b[0;32m<ipython-input-1-4dc76972476a>\u001b[0m in \u001b[0;36m<cell line: 1>\u001b[0;34m()\u001b[0m\n\u001b[0;32m----> 1\u001b[0;31m \u001b[0mmissing\u001b[0m \u001b[0;34m=\u001b[0m \u001b[0mpd\u001b[0m\u001b[0;34m.\u001b[0m\u001b[0misnull\u001b[0m\u001b[0;34m(\u001b[0m\u001b[0mdf\u001b[0m\u001b[0;34m)\u001b[0m\u001b[0;34m.\u001b[0m\u001b[0msum\u001b[0m\u001b[0;34m(\u001b[0m\u001b[0;34m)\u001b[0m\u001b[0;34m\u001b[0m\u001b[0;34m\u001b[0m\u001b[0m\n\u001b[0m\u001b[1;32m      2\u001b[0m \u001b[0mmissing\u001b[0m\u001b[0;34m\u001b[0m\u001b[0;34m\u001b[0m\u001b[0m\n",
            "\u001b[0;31mNameError\u001b[0m: name 'pd' is not defined"
          ]
        }
      ]
    },
    {
      "cell_type": "markdown",
      "source": [
        "##Drop Missing Value"
      ],
      "metadata": {
        "id": "83LFnQgSVe9Q"
      }
    },
    {
      "cell_type": "code",
      "source": [
        "df.dropna(inplace=True)"
      ],
      "metadata": {
        "id": "k3IZVCg-VVFD"
      },
      "execution_count": null,
      "outputs": []
    },
    {
      "cell_type": "code",
      "source": [
        "missing = pd.isnull(df).sum()\n",
        "missing"
      ],
      "metadata": {
        "id": "-Cl0qxOiVdPW"
      },
      "execution_count": null,
      "outputs": []
    },
    {
      "cell_type": "markdown",
      "source": [
        "#Data Preparation"
      ],
      "metadata": {
        "id": "vV4SZCFnahKB"
      }
    },
    {
      "cell_type": "code",
      "source": [
        "df.head()"
      ],
      "metadata": {
        "id": "CQL0xPxaai0a",
        "colab": {
          "base_uri": "https://localhost:8080/",
          "height": 206
        },
        "outputId": "694bdb4b-5cf2-45e7-d548-1d354c3e707f"
      },
      "execution_count": null,
      "outputs": [
        {
          "output_type": "execute_result",
          "data": {
            "text/plain": [
              "                      Title  \\\n",
              "0          Ayam Woku Manado   \n",
              "1  Ayam goreng tulang lunak   \n",
              "2          Ayam cabai kawin   \n",
              "3               Ayam Geprek   \n",
              "4               Minyak Ayam   \n",
              "\n",
              "                                         Ingredients  \\\n",
              "0  1 Ekor Ayam Kampung (potong 12)--2 Buah Jeruk ...   \n",
              "1  1 kg ayam (dipotong sesuai selera jangan kecil...   \n",
              "2  1/4 kg ayam--3 buah cabai hijau besar--7 buah ...   \n",
              "3  250 gr daging ayam (saya pakai fillet)--Secuku...   \n",
              "4  400 gr kulit ayam & lemaknya--8 siung bawang p...   \n",
              "\n",
              "                                               Steps  Loves  \\\n",
              "0  Cuci bersih ayam dan tiriskan. Lalu peras jeru...      1   \n",
              "1  Haluskan bumbu2nya (BaPut, ketumbar, kemiri, k...      1   \n",
              "2  Panaskan minyak di dalam wajan. Setelah minyak...      2   \n",
              "3  Goreng ayam seperti ayam krispi--Ulek semua ba...     10   \n",
              "4  Cuci bersih kulit ayam. Sisihkan--Ambil 50 ml ...      4   \n",
              "\n",
              "                                          URL   tag  \n",
              "0          /id/resep/4473027-ayam-woku-manado  ayam  \n",
              "1  /id/resep/4471956-ayam-goreng-tulang-lunak  ayam  \n",
              "2          /id/resep/4473057-ayam-cabai-kawin  ayam  \n",
              "3               /id/resep/4473023-ayam-geprek  ayam  \n",
              "4               /id/resep/4427438-minyak-ayam  ayam  "
            ],
            "text/html": [
              "\n",
              "  <div id=\"df-50829513-9132-4f15-92b0-b82f021ed505\">\n",
              "    <div class=\"colab-df-container\">\n",
              "      <div>\n",
              "<style scoped>\n",
              "    .dataframe tbody tr th:only-of-type {\n",
              "        vertical-align: middle;\n",
              "    }\n",
              "\n",
              "    .dataframe tbody tr th {\n",
              "        vertical-align: top;\n",
              "    }\n",
              "\n",
              "    .dataframe thead th {\n",
              "        text-align: right;\n",
              "    }\n",
              "</style>\n",
              "<table border=\"1\" class=\"dataframe\">\n",
              "  <thead>\n",
              "    <tr style=\"text-align: right;\">\n",
              "      <th></th>\n",
              "      <th>Title</th>\n",
              "      <th>Ingredients</th>\n",
              "      <th>Steps</th>\n",
              "      <th>Loves</th>\n",
              "      <th>URL</th>\n",
              "      <th>tag</th>\n",
              "    </tr>\n",
              "  </thead>\n",
              "  <tbody>\n",
              "    <tr>\n",
              "      <th>0</th>\n",
              "      <td>Ayam Woku Manado</td>\n",
              "      <td>1 Ekor Ayam Kampung (potong 12)--2 Buah Jeruk ...</td>\n",
              "      <td>Cuci bersih ayam dan tiriskan. Lalu peras jeru...</td>\n",
              "      <td>1</td>\n",
              "      <td>/id/resep/4473027-ayam-woku-manado</td>\n",
              "      <td>ayam</td>\n",
              "    </tr>\n",
              "    <tr>\n",
              "      <th>1</th>\n",
              "      <td>Ayam goreng tulang lunak</td>\n",
              "      <td>1 kg ayam (dipotong sesuai selera jangan kecil...</td>\n",
              "      <td>Haluskan bumbu2nya (BaPut, ketumbar, kemiri, k...</td>\n",
              "      <td>1</td>\n",
              "      <td>/id/resep/4471956-ayam-goreng-tulang-lunak</td>\n",
              "      <td>ayam</td>\n",
              "    </tr>\n",
              "    <tr>\n",
              "      <th>2</th>\n",
              "      <td>Ayam cabai kawin</td>\n",
              "      <td>1/4 kg ayam--3 buah cabai hijau besar--7 buah ...</td>\n",
              "      <td>Panaskan minyak di dalam wajan. Setelah minyak...</td>\n",
              "      <td>2</td>\n",
              "      <td>/id/resep/4473057-ayam-cabai-kawin</td>\n",
              "      <td>ayam</td>\n",
              "    </tr>\n",
              "    <tr>\n",
              "      <th>3</th>\n",
              "      <td>Ayam Geprek</td>\n",
              "      <td>250 gr daging ayam (saya pakai fillet)--Secuku...</td>\n",
              "      <td>Goreng ayam seperti ayam krispi--Ulek semua ba...</td>\n",
              "      <td>10</td>\n",
              "      <td>/id/resep/4473023-ayam-geprek</td>\n",
              "      <td>ayam</td>\n",
              "    </tr>\n",
              "    <tr>\n",
              "      <th>4</th>\n",
              "      <td>Minyak Ayam</td>\n",
              "      <td>400 gr kulit ayam &amp; lemaknya--8 siung bawang p...</td>\n",
              "      <td>Cuci bersih kulit ayam. Sisihkan--Ambil 50 ml ...</td>\n",
              "      <td>4</td>\n",
              "      <td>/id/resep/4427438-minyak-ayam</td>\n",
              "      <td>ayam</td>\n",
              "    </tr>\n",
              "  </tbody>\n",
              "</table>\n",
              "</div>\n",
              "      <button class=\"colab-df-convert\" onclick=\"convertToInteractive('df-50829513-9132-4f15-92b0-b82f021ed505')\"\n",
              "              title=\"Convert this dataframe to an interactive table.\"\n",
              "              style=\"display:none;\">\n",
              "        \n",
              "  <svg xmlns=\"http://www.w3.org/2000/svg\" height=\"24px\"viewBox=\"0 0 24 24\"\n",
              "       width=\"24px\">\n",
              "    <path d=\"M0 0h24v24H0V0z\" fill=\"none\"/>\n",
              "    <path d=\"M18.56 5.44l.94 2.06.94-2.06 2.06-.94-2.06-.94-.94-2.06-.94 2.06-2.06.94zm-11 1L8.5 8.5l.94-2.06 2.06-.94-2.06-.94L8.5 2.5l-.94 2.06-2.06.94zm10 10l.94 2.06.94-2.06 2.06-.94-2.06-.94-.94-2.06-.94 2.06-2.06.94z\"/><path d=\"M17.41 7.96l-1.37-1.37c-.4-.4-.92-.59-1.43-.59-.52 0-1.04.2-1.43.59L10.3 9.45l-7.72 7.72c-.78.78-.78 2.05 0 2.83L4 21.41c.39.39.9.59 1.41.59.51 0 1.02-.2 1.41-.59l7.78-7.78 2.81-2.81c.8-.78.8-2.07 0-2.86zM5.41 20L4 18.59l7.72-7.72 1.47 1.35L5.41 20z\"/>\n",
              "  </svg>\n",
              "      </button>\n",
              "      \n",
              "  <style>\n",
              "    .colab-df-container {\n",
              "      display:flex;\n",
              "      flex-wrap:wrap;\n",
              "      gap: 12px;\n",
              "    }\n",
              "\n",
              "    .colab-df-convert {\n",
              "      background-color: #E8F0FE;\n",
              "      border: none;\n",
              "      border-radius: 50%;\n",
              "      cursor: pointer;\n",
              "      display: none;\n",
              "      fill: #1967D2;\n",
              "      height: 32px;\n",
              "      padding: 0 0 0 0;\n",
              "      width: 32px;\n",
              "    }\n",
              "\n",
              "    .colab-df-convert:hover {\n",
              "      background-color: #E2EBFA;\n",
              "      box-shadow: 0px 1px 2px rgba(60, 64, 67, 0.3), 0px 1px 3px 1px rgba(60, 64, 67, 0.15);\n",
              "      fill: #174EA6;\n",
              "    }\n",
              "\n",
              "    [theme=dark] .colab-df-convert {\n",
              "      background-color: #3B4455;\n",
              "      fill: #D2E3FC;\n",
              "    }\n",
              "\n",
              "    [theme=dark] .colab-df-convert:hover {\n",
              "      background-color: #434B5C;\n",
              "      box-shadow: 0px 1px 3px 1px rgba(0, 0, 0, 0.15);\n",
              "      filter: drop-shadow(0px 1px 2px rgba(0, 0, 0, 0.3));\n",
              "      fill: #FFFFFF;\n",
              "    }\n",
              "  </style>\n",
              "\n",
              "      <script>\n",
              "        const buttonEl =\n",
              "          document.querySelector('#df-50829513-9132-4f15-92b0-b82f021ed505 button.colab-df-convert');\n",
              "        buttonEl.style.display =\n",
              "          google.colab.kernel.accessAllowed ? 'block' : 'none';\n",
              "\n",
              "        async function convertToInteractive(key) {\n",
              "          const element = document.querySelector('#df-50829513-9132-4f15-92b0-b82f021ed505');\n",
              "          const dataTable =\n",
              "            await google.colab.kernel.invokeFunction('convertToInteractive',\n",
              "                                                     [key], {});\n",
              "          if (!dataTable) return;\n",
              "\n",
              "          const docLinkHtml = 'Like what you see? Visit the ' +\n",
              "            '<a target=\"_blank\" href=https://colab.research.google.com/notebooks/data_table.ipynb>data table notebook</a>'\n",
              "            + ' to learn more about interactive tables.';\n",
              "          element.innerHTML = '';\n",
              "          dataTable['output_type'] = 'display_data';\n",
              "          await google.colab.output.renderOutput(dataTable, element);\n",
              "          const docLink = document.createElement('div');\n",
              "          docLink.innerHTML = docLinkHtml;\n",
              "          element.appendChild(docLink);\n",
              "        }\n",
              "      </script>\n",
              "    </div>\n",
              "  </div>\n",
              "  "
            ]
          },
          "metadata": {},
          "execution_count": 11
        }
      ]
    },
    {
      "cell_type": "code",
      "source": [
        "df['URL'] = 'https://storage.googleapis.com/reciphy-bucket-1/hamburger-g92833b518_1280.jpg'"
      ],
      "metadata": {
        "id": "pJ6icVcdMLVG"
      },
      "execution_count": null,
      "outputs": []
    },
    {
      "cell_type": "code",
      "source": [
        "df.head()"
      ],
      "metadata": {
        "id": "jXvJawZtMNyc",
        "colab": {
          "base_uri": "https://localhost:8080/",
          "height": 206
        },
        "outputId": "918c1c9b-284f-4e06-f0ab-9aae1f62f84c"
      },
      "execution_count": null,
      "outputs": [
        {
          "output_type": "execute_result",
          "data": {
            "text/plain": [
              "                      Title  \\\n",
              "0          Ayam Woku Manado   \n",
              "1  Ayam goreng tulang lunak   \n",
              "2          Ayam cabai kawin   \n",
              "3               Ayam Geprek   \n",
              "4               Minyak Ayam   \n",
              "\n",
              "                                         Ingredients  \\\n",
              "0  1 Ekor Ayam Kampung (potong 12)--2 Buah Jeruk ...   \n",
              "1  1 kg ayam (dipotong sesuai selera jangan kecil...   \n",
              "2  1/4 kg ayam--3 buah cabai hijau besar--7 buah ...   \n",
              "3  250 gr daging ayam (saya pakai fillet)--Secuku...   \n",
              "4  400 gr kulit ayam & lemaknya--8 siung bawang p...   \n",
              "\n",
              "                                               Steps  Loves  \\\n",
              "0  Cuci bersih ayam dan tiriskan. Lalu peras jeru...      1   \n",
              "1  Haluskan bumbu2nya (BaPut, ketumbar, kemiri, k...      1   \n",
              "2  Panaskan minyak di dalam wajan. Setelah minyak...      2   \n",
              "3  Goreng ayam seperti ayam krispi--Ulek semua ba...     10   \n",
              "4  Cuci bersih kulit ayam. Sisihkan--Ambil 50 ml ...      4   \n",
              "\n",
              "                                                 URL   tag  \n",
              "0  https://storage.googleapis.com/reciphy-bucket-...  ayam  \n",
              "1  https://storage.googleapis.com/reciphy-bucket-...  ayam  \n",
              "2  https://storage.googleapis.com/reciphy-bucket-...  ayam  \n",
              "3  https://storage.googleapis.com/reciphy-bucket-...  ayam  \n",
              "4  https://storage.googleapis.com/reciphy-bucket-...  ayam  "
            ],
            "text/html": [
              "\n",
              "  <div id=\"df-856b55f9-d384-40a1-bf88-7a66f5844739\">\n",
              "    <div class=\"colab-df-container\">\n",
              "      <div>\n",
              "<style scoped>\n",
              "    .dataframe tbody tr th:only-of-type {\n",
              "        vertical-align: middle;\n",
              "    }\n",
              "\n",
              "    .dataframe tbody tr th {\n",
              "        vertical-align: top;\n",
              "    }\n",
              "\n",
              "    .dataframe thead th {\n",
              "        text-align: right;\n",
              "    }\n",
              "</style>\n",
              "<table border=\"1\" class=\"dataframe\">\n",
              "  <thead>\n",
              "    <tr style=\"text-align: right;\">\n",
              "      <th></th>\n",
              "      <th>Title</th>\n",
              "      <th>Ingredients</th>\n",
              "      <th>Steps</th>\n",
              "      <th>Loves</th>\n",
              "      <th>URL</th>\n",
              "      <th>tag</th>\n",
              "    </tr>\n",
              "  </thead>\n",
              "  <tbody>\n",
              "    <tr>\n",
              "      <th>0</th>\n",
              "      <td>Ayam Woku Manado</td>\n",
              "      <td>1 Ekor Ayam Kampung (potong 12)--2 Buah Jeruk ...</td>\n",
              "      <td>Cuci bersih ayam dan tiriskan. Lalu peras jeru...</td>\n",
              "      <td>1</td>\n",
              "      <td>https://storage.googleapis.com/reciphy-bucket-...</td>\n",
              "      <td>ayam</td>\n",
              "    </tr>\n",
              "    <tr>\n",
              "      <th>1</th>\n",
              "      <td>Ayam goreng tulang lunak</td>\n",
              "      <td>1 kg ayam (dipotong sesuai selera jangan kecil...</td>\n",
              "      <td>Haluskan bumbu2nya (BaPut, ketumbar, kemiri, k...</td>\n",
              "      <td>1</td>\n",
              "      <td>https://storage.googleapis.com/reciphy-bucket-...</td>\n",
              "      <td>ayam</td>\n",
              "    </tr>\n",
              "    <tr>\n",
              "      <th>2</th>\n",
              "      <td>Ayam cabai kawin</td>\n",
              "      <td>1/4 kg ayam--3 buah cabai hijau besar--7 buah ...</td>\n",
              "      <td>Panaskan minyak di dalam wajan. Setelah minyak...</td>\n",
              "      <td>2</td>\n",
              "      <td>https://storage.googleapis.com/reciphy-bucket-...</td>\n",
              "      <td>ayam</td>\n",
              "    </tr>\n",
              "    <tr>\n",
              "      <th>3</th>\n",
              "      <td>Ayam Geprek</td>\n",
              "      <td>250 gr daging ayam (saya pakai fillet)--Secuku...</td>\n",
              "      <td>Goreng ayam seperti ayam krispi--Ulek semua ba...</td>\n",
              "      <td>10</td>\n",
              "      <td>https://storage.googleapis.com/reciphy-bucket-...</td>\n",
              "      <td>ayam</td>\n",
              "    </tr>\n",
              "    <tr>\n",
              "      <th>4</th>\n",
              "      <td>Minyak Ayam</td>\n",
              "      <td>400 gr kulit ayam &amp; lemaknya--8 siung bawang p...</td>\n",
              "      <td>Cuci bersih kulit ayam. Sisihkan--Ambil 50 ml ...</td>\n",
              "      <td>4</td>\n",
              "      <td>https://storage.googleapis.com/reciphy-bucket-...</td>\n",
              "      <td>ayam</td>\n",
              "    </tr>\n",
              "  </tbody>\n",
              "</table>\n",
              "</div>\n",
              "      <button class=\"colab-df-convert\" onclick=\"convertToInteractive('df-856b55f9-d384-40a1-bf88-7a66f5844739')\"\n",
              "              title=\"Convert this dataframe to an interactive table.\"\n",
              "              style=\"display:none;\">\n",
              "        \n",
              "  <svg xmlns=\"http://www.w3.org/2000/svg\" height=\"24px\"viewBox=\"0 0 24 24\"\n",
              "       width=\"24px\">\n",
              "    <path d=\"M0 0h24v24H0V0z\" fill=\"none\"/>\n",
              "    <path d=\"M18.56 5.44l.94 2.06.94-2.06 2.06-.94-2.06-.94-.94-2.06-.94 2.06-2.06.94zm-11 1L8.5 8.5l.94-2.06 2.06-.94-2.06-.94L8.5 2.5l-.94 2.06-2.06.94zm10 10l.94 2.06.94-2.06 2.06-.94-2.06-.94-.94-2.06-.94 2.06-2.06.94z\"/><path d=\"M17.41 7.96l-1.37-1.37c-.4-.4-.92-.59-1.43-.59-.52 0-1.04.2-1.43.59L10.3 9.45l-7.72 7.72c-.78.78-.78 2.05 0 2.83L4 21.41c.39.39.9.59 1.41.59.51 0 1.02-.2 1.41-.59l7.78-7.78 2.81-2.81c.8-.78.8-2.07 0-2.86zM5.41 20L4 18.59l7.72-7.72 1.47 1.35L5.41 20z\"/>\n",
              "  </svg>\n",
              "      </button>\n",
              "      \n",
              "  <style>\n",
              "    .colab-df-container {\n",
              "      display:flex;\n",
              "      flex-wrap:wrap;\n",
              "      gap: 12px;\n",
              "    }\n",
              "\n",
              "    .colab-df-convert {\n",
              "      background-color: #E8F0FE;\n",
              "      border: none;\n",
              "      border-radius: 50%;\n",
              "      cursor: pointer;\n",
              "      display: none;\n",
              "      fill: #1967D2;\n",
              "      height: 32px;\n",
              "      padding: 0 0 0 0;\n",
              "      width: 32px;\n",
              "    }\n",
              "\n",
              "    .colab-df-convert:hover {\n",
              "      background-color: #E2EBFA;\n",
              "      box-shadow: 0px 1px 2px rgba(60, 64, 67, 0.3), 0px 1px 3px 1px rgba(60, 64, 67, 0.15);\n",
              "      fill: #174EA6;\n",
              "    }\n",
              "\n",
              "    [theme=dark] .colab-df-convert {\n",
              "      background-color: #3B4455;\n",
              "      fill: #D2E3FC;\n",
              "    }\n",
              "\n",
              "    [theme=dark] .colab-df-convert:hover {\n",
              "      background-color: #434B5C;\n",
              "      box-shadow: 0px 1px 3px 1px rgba(0, 0, 0, 0.15);\n",
              "      filter: drop-shadow(0px 1px 2px rgba(0, 0, 0, 0.3));\n",
              "      fill: #FFFFFF;\n",
              "    }\n",
              "  </style>\n",
              "\n",
              "      <script>\n",
              "        const buttonEl =\n",
              "          document.querySelector('#df-856b55f9-d384-40a1-bf88-7a66f5844739 button.colab-df-convert');\n",
              "        buttonEl.style.display =\n",
              "          google.colab.kernel.accessAllowed ? 'block' : 'none';\n",
              "\n",
              "        async function convertToInteractive(key) {\n",
              "          const element = document.querySelector('#df-856b55f9-d384-40a1-bf88-7a66f5844739');\n",
              "          const dataTable =\n",
              "            await google.colab.kernel.invokeFunction('convertToInteractive',\n",
              "                                                     [key], {});\n",
              "          if (!dataTable) return;\n",
              "\n",
              "          const docLinkHtml = 'Like what you see? Visit the ' +\n",
              "            '<a target=\"_blank\" href=https://colab.research.google.com/notebooks/data_table.ipynb>data table notebook</a>'\n",
              "            + ' to learn more about interactive tables.';\n",
              "          element.innerHTML = '';\n",
              "          dataTable['output_type'] = 'display_data';\n",
              "          await google.colab.output.renderOutput(dataTable, element);\n",
              "          const docLink = document.createElement('div');\n",
              "          docLink.innerHTML = docLinkHtml;\n",
              "          element.appendChild(docLink);\n",
              "        }\n",
              "      </script>\n",
              "    </div>\n",
              "  </div>\n",
              "  "
            ]
          },
          "metadata": {},
          "execution_count": 13
        }
      ]
    },
    {
      "cell_type": "code",
      "source": [
        "df = df.drop('Loves', axis=1)"
      ],
      "metadata": {
        "id": "q6QWzE5ONl8A"
      },
      "execution_count": null,
      "outputs": []
    },
    {
      "cell_type": "code",
      "source": [
        "df.head()"
      ],
      "metadata": {
        "id": "1CeFMKUON5vz",
        "colab": {
          "base_uri": "https://localhost:8080/",
          "height": 206
        },
        "outputId": "0d82cef3-c0c5-4d76-9a65-c5cb4a5d5258"
      },
      "execution_count": null,
      "outputs": [
        {
          "output_type": "execute_result",
          "data": {
            "text/plain": [
              "                      Title  \\\n",
              "0          Ayam Woku Manado   \n",
              "1  Ayam goreng tulang lunak   \n",
              "2          Ayam cabai kawin   \n",
              "3               Ayam Geprek   \n",
              "4               Minyak Ayam   \n",
              "\n",
              "                                         Ingredients  \\\n",
              "0  1 Ekor Ayam Kampung (potong 12)--2 Buah Jeruk ...   \n",
              "1  1 kg ayam (dipotong sesuai selera jangan kecil...   \n",
              "2  1/4 kg ayam--3 buah cabai hijau besar--7 buah ...   \n",
              "3  250 gr daging ayam (saya pakai fillet)--Secuku...   \n",
              "4  400 gr kulit ayam & lemaknya--8 siung bawang p...   \n",
              "\n",
              "                                               Steps  \\\n",
              "0  Cuci bersih ayam dan tiriskan. Lalu peras jeru...   \n",
              "1  Haluskan bumbu2nya (BaPut, ketumbar, kemiri, k...   \n",
              "2  Panaskan minyak di dalam wajan. Setelah minyak...   \n",
              "3  Goreng ayam seperti ayam krispi--Ulek semua ba...   \n",
              "4  Cuci bersih kulit ayam. Sisihkan--Ambil 50 ml ...   \n",
              "\n",
              "                                                 URL   tag  \n",
              "0  https://storage.googleapis.com/reciphy-bucket-...  ayam  \n",
              "1  https://storage.googleapis.com/reciphy-bucket-...  ayam  \n",
              "2  https://storage.googleapis.com/reciphy-bucket-...  ayam  \n",
              "3  https://storage.googleapis.com/reciphy-bucket-...  ayam  \n",
              "4  https://storage.googleapis.com/reciphy-bucket-...  ayam  "
            ],
            "text/html": [
              "\n",
              "  <div id=\"df-b7cc575b-c21d-42d5-a4bc-f355324e3b24\">\n",
              "    <div class=\"colab-df-container\">\n",
              "      <div>\n",
              "<style scoped>\n",
              "    .dataframe tbody tr th:only-of-type {\n",
              "        vertical-align: middle;\n",
              "    }\n",
              "\n",
              "    .dataframe tbody tr th {\n",
              "        vertical-align: top;\n",
              "    }\n",
              "\n",
              "    .dataframe thead th {\n",
              "        text-align: right;\n",
              "    }\n",
              "</style>\n",
              "<table border=\"1\" class=\"dataframe\">\n",
              "  <thead>\n",
              "    <tr style=\"text-align: right;\">\n",
              "      <th></th>\n",
              "      <th>Title</th>\n",
              "      <th>Ingredients</th>\n",
              "      <th>Steps</th>\n",
              "      <th>URL</th>\n",
              "      <th>tag</th>\n",
              "    </tr>\n",
              "  </thead>\n",
              "  <tbody>\n",
              "    <tr>\n",
              "      <th>0</th>\n",
              "      <td>Ayam Woku Manado</td>\n",
              "      <td>1 Ekor Ayam Kampung (potong 12)--2 Buah Jeruk ...</td>\n",
              "      <td>Cuci bersih ayam dan tiriskan. Lalu peras jeru...</td>\n",
              "      <td>https://storage.googleapis.com/reciphy-bucket-...</td>\n",
              "      <td>ayam</td>\n",
              "    </tr>\n",
              "    <tr>\n",
              "      <th>1</th>\n",
              "      <td>Ayam goreng tulang lunak</td>\n",
              "      <td>1 kg ayam (dipotong sesuai selera jangan kecil...</td>\n",
              "      <td>Haluskan bumbu2nya (BaPut, ketumbar, kemiri, k...</td>\n",
              "      <td>https://storage.googleapis.com/reciphy-bucket-...</td>\n",
              "      <td>ayam</td>\n",
              "    </tr>\n",
              "    <tr>\n",
              "      <th>2</th>\n",
              "      <td>Ayam cabai kawin</td>\n",
              "      <td>1/4 kg ayam--3 buah cabai hijau besar--7 buah ...</td>\n",
              "      <td>Panaskan minyak di dalam wajan. Setelah minyak...</td>\n",
              "      <td>https://storage.googleapis.com/reciphy-bucket-...</td>\n",
              "      <td>ayam</td>\n",
              "    </tr>\n",
              "    <tr>\n",
              "      <th>3</th>\n",
              "      <td>Ayam Geprek</td>\n",
              "      <td>250 gr daging ayam (saya pakai fillet)--Secuku...</td>\n",
              "      <td>Goreng ayam seperti ayam krispi--Ulek semua ba...</td>\n",
              "      <td>https://storage.googleapis.com/reciphy-bucket-...</td>\n",
              "      <td>ayam</td>\n",
              "    </tr>\n",
              "    <tr>\n",
              "      <th>4</th>\n",
              "      <td>Minyak Ayam</td>\n",
              "      <td>400 gr kulit ayam &amp; lemaknya--8 siung bawang p...</td>\n",
              "      <td>Cuci bersih kulit ayam. Sisihkan--Ambil 50 ml ...</td>\n",
              "      <td>https://storage.googleapis.com/reciphy-bucket-...</td>\n",
              "      <td>ayam</td>\n",
              "    </tr>\n",
              "  </tbody>\n",
              "</table>\n",
              "</div>\n",
              "      <button class=\"colab-df-convert\" onclick=\"convertToInteractive('df-b7cc575b-c21d-42d5-a4bc-f355324e3b24')\"\n",
              "              title=\"Convert this dataframe to an interactive table.\"\n",
              "              style=\"display:none;\">\n",
              "        \n",
              "  <svg xmlns=\"http://www.w3.org/2000/svg\" height=\"24px\"viewBox=\"0 0 24 24\"\n",
              "       width=\"24px\">\n",
              "    <path d=\"M0 0h24v24H0V0z\" fill=\"none\"/>\n",
              "    <path d=\"M18.56 5.44l.94 2.06.94-2.06 2.06-.94-2.06-.94-.94-2.06-.94 2.06-2.06.94zm-11 1L8.5 8.5l.94-2.06 2.06-.94-2.06-.94L8.5 2.5l-.94 2.06-2.06.94zm10 10l.94 2.06.94-2.06 2.06-.94-2.06-.94-.94-2.06-.94 2.06-2.06.94z\"/><path d=\"M17.41 7.96l-1.37-1.37c-.4-.4-.92-.59-1.43-.59-.52 0-1.04.2-1.43.59L10.3 9.45l-7.72 7.72c-.78.78-.78 2.05 0 2.83L4 21.41c.39.39.9.59 1.41.59.51 0 1.02-.2 1.41-.59l7.78-7.78 2.81-2.81c.8-.78.8-2.07 0-2.86zM5.41 20L4 18.59l7.72-7.72 1.47 1.35L5.41 20z\"/>\n",
              "  </svg>\n",
              "      </button>\n",
              "      \n",
              "  <style>\n",
              "    .colab-df-container {\n",
              "      display:flex;\n",
              "      flex-wrap:wrap;\n",
              "      gap: 12px;\n",
              "    }\n",
              "\n",
              "    .colab-df-convert {\n",
              "      background-color: #E8F0FE;\n",
              "      border: none;\n",
              "      border-radius: 50%;\n",
              "      cursor: pointer;\n",
              "      display: none;\n",
              "      fill: #1967D2;\n",
              "      height: 32px;\n",
              "      padding: 0 0 0 0;\n",
              "      width: 32px;\n",
              "    }\n",
              "\n",
              "    .colab-df-convert:hover {\n",
              "      background-color: #E2EBFA;\n",
              "      box-shadow: 0px 1px 2px rgba(60, 64, 67, 0.3), 0px 1px 3px 1px rgba(60, 64, 67, 0.15);\n",
              "      fill: #174EA6;\n",
              "    }\n",
              "\n",
              "    [theme=dark] .colab-df-convert {\n",
              "      background-color: #3B4455;\n",
              "      fill: #D2E3FC;\n",
              "    }\n",
              "\n",
              "    [theme=dark] .colab-df-convert:hover {\n",
              "      background-color: #434B5C;\n",
              "      box-shadow: 0px 1px 3px 1px rgba(0, 0, 0, 0.15);\n",
              "      filter: drop-shadow(0px 1px 2px rgba(0, 0, 0, 0.3));\n",
              "      fill: #FFFFFF;\n",
              "    }\n",
              "  </style>\n",
              "\n",
              "      <script>\n",
              "        const buttonEl =\n",
              "          document.querySelector('#df-b7cc575b-c21d-42d5-a4bc-f355324e3b24 button.colab-df-convert');\n",
              "        buttonEl.style.display =\n",
              "          google.colab.kernel.accessAllowed ? 'block' : 'none';\n",
              "\n",
              "        async function convertToInteractive(key) {\n",
              "          const element = document.querySelector('#df-b7cc575b-c21d-42d5-a4bc-f355324e3b24');\n",
              "          const dataTable =\n",
              "            await google.colab.kernel.invokeFunction('convertToInteractive',\n",
              "                                                     [key], {});\n",
              "          if (!dataTable) return;\n",
              "\n",
              "          const docLinkHtml = 'Like what you see? Visit the ' +\n",
              "            '<a target=\"_blank\" href=https://colab.research.google.com/notebooks/data_table.ipynb>data table notebook</a>'\n",
              "            + ' to learn more about interactive tables.';\n",
              "          element.innerHTML = '';\n",
              "          dataTable['output_type'] = 'display_data';\n",
              "          await google.colab.output.renderOutput(dataTable, element);\n",
              "          const docLink = document.createElement('div');\n",
              "          docLink.innerHTML = docLinkHtml;\n",
              "          element.appendChild(docLink);\n",
              "        }\n",
              "      </script>\n",
              "    </div>\n",
              "  </div>\n",
              "  "
            ]
          },
          "metadata": {},
          "execution_count": 15
        }
      ]
    },
    {
      "cell_type": "code",
      "source": [
        "# Memisahkan data dalam kolom menjadi daftar dengan pemisah \"--\"\n",
        "df['Ingredients'] = df['Ingredients'].str.split('--')\n"
      ],
      "metadata": {
        "id": "Uadn9lAB_a41"
      },
      "execution_count": null,
      "outputs": []
    },
    {
      "cell_type": "code",
      "source": [
        "df['Ingredients'] = df['Ingredients'].apply(lambda x: x if isinstance(x, list) else [])"
      ],
      "metadata": {
        "id": "b3ePz06mAs5m"
      },
      "execution_count": null,
      "outputs": []
    },
    {
      "cell_type": "code",
      "source": [
        "df.head()"
      ],
      "metadata": {
        "id": "AKKrCtmCAZk1",
        "colab": {
          "base_uri": "https://localhost:8080/",
          "height": 206
        },
        "outputId": "99f14c08-f9cf-4d39-c246-c332c7a8d6b0"
      },
      "execution_count": null,
      "outputs": [
        {
          "output_type": "execute_result",
          "data": {
            "text/plain": [
              "                      Title  \\\n",
              "0          Ayam Woku Manado   \n",
              "1  Ayam goreng tulang lunak   \n",
              "2          Ayam cabai kawin   \n",
              "3               Ayam Geprek   \n",
              "4               Minyak Ayam   \n",
              "\n",
              "                                         Ingredients  \\\n",
              "0  [1 Ekor Ayam Kampung (potong 12), 2 Buah Jeruk...   \n",
              "1  [1 kg ayam (dipotong sesuai selera jangan keci...   \n",
              "2  [1/4 kg ayam, 3 buah cabai hijau besar, 7 buah...   \n",
              "3  [250 gr daging ayam (saya pakai fillet), Secuk...   \n",
              "4  [400 gr kulit ayam & lemaknya, 8 siung bawang ...   \n",
              "\n",
              "                                               Steps  \\\n",
              "0  Cuci bersih ayam dan tiriskan. Lalu peras jeru...   \n",
              "1  Haluskan bumbu2nya (BaPut, ketumbar, kemiri, k...   \n",
              "2  Panaskan minyak di dalam wajan. Setelah minyak...   \n",
              "3  Goreng ayam seperti ayam krispi--Ulek semua ba...   \n",
              "4  Cuci bersih kulit ayam. Sisihkan--Ambil 50 ml ...   \n",
              "\n",
              "                                                 URL   tag  \n",
              "0  https://storage.googleapis.com/reciphy-bucket-...  ayam  \n",
              "1  https://storage.googleapis.com/reciphy-bucket-...  ayam  \n",
              "2  https://storage.googleapis.com/reciphy-bucket-...  ayam  \n",
              "3  https://storage.googleapis.com/reciphy-bucket-...  ayam  \n",
              "4  https://storage.googleapis.com/reciphy-bucket-...  ayam  "
            ],
            "text/html": [
              "\n",
              "  <div id=\"df-7f3e4b20-c1a4-4cee-b66f-7d37e4e2d0c4\">\n",
              "    <div class=\"colab-df-container\">\n",
              "      <div>\n",
              "<style scoped>\n",
              "    .dataframe tbody tr th:only-of-type {\n",
              "        vertical-align: middle;\n",
              "    }\n",
              "\n",
              "    .dataframe tbody tr th {\n",
              "        vertical-align: top;\n",
              "    }\n",
              "\n",
              "    .dataframe thead th {\n",
              "        text-align: right;\n",
              "    }\n",
              "</style>\n",
              "<table border=\"1\" class=\"dataframe\">\n",
              "  <thead>\n",
              "    <tr style=\"text-align: right;\">\n",
              "      <th></th>\n",
              "      <th>Title</th>\n",
              "      <th>Ingredients</th>\n",
              "      <th>Steps</th>\n",
              "      <th>URL</th>\n",
              "      <th>tag</th>\n",
              "    </tr>\n",
              "  </thead>\n",
              "  <tbody>\n",
              "    <tr>\n",
              "      <th>0</th>\n",
              "      <td>Ayam Woku Manado</td>\n",
              "      <td>[1 Ekor Ayam Kampung (potong 12), 2 Buah Jeruk...</td>\n",
              "      <td>Cuci bersih ayam dan tiriskan. Lalu peras jeru...</td>\n",
              "      <td>https://storage.googleapis.com/reciphy-bucket-...</td>\n",
              "      <td>ayam</td>\n",
              "    </tr>\n",
              "    <tr>\n",
              "      <th>1</th>\n",
              "      <td>Ayam goreng tulang lunak</td>\n",
              "      <td>[1 kg ayam (dipotong sesuai selera jangan keci...</td>\n",
              "      <td>Haluskan bumbu2nya (BaPut, ketumbar, kemiri, k...</td>\n",
              "      <td>https://storage.googleapis.com/reciphy-bucket-...</td>\n",
              "      <td>ayam</td>\n",
              "    </tr>\n",
              "    <tr>\n",
              "      <th>2</th>\n",
              "      <td>Ayam cabai kawin</td>\n",
              "      <td>[1/4 kg ayam, 3 buah cabai hijau besar, 7 buah...</td>\n",
              "      <td>Panaskan minyak di dalam wajan. Setelah minyak...</td>\n",
              "      <td>https://storage.googleapis.com/reciphy-bucket-...</td>\n",
              "      <td>ayam</td>\n",
              "    </tr>\n",
              "    <tr>\n",
              "      <th>3</th>\n",
              "      <td>Ayam Geprek</td>\n",
              "      <td>[250 gr daging ayam (saya pakai fillet), Secuk...</td>\n",
              "      <td>Goreng ayam seperti ayam krispi--Ulek semua ba...</td>\n",
              "      <td>https://storage.googleapis.com/reciphy-bucket-...</td>\n",
              "      <td>ayam</td>\n",
              "    </tr>\n",
              "    <tr>\n",
              "      <th>4</th>\n",
              "      <td>Minyak Ayam</td>\n",
              "      <td>[400 gr kulit ayam &amp; lemaknya, 8 siung bawang ...</td>\n",
              "      <td>Cuci bersih kulit ayam. Sisihkan--Ambil 50 ml ...</td>\n",
              "      <td>https://storage.googleapis.com/reciphy-bucket-...</td>\n",
              "      <td>ayam</td>\n",
              "    </tr>\n",
              "  </tbody>\n",
              "</table>\n",
              "</div>\n",
              "      <button class=\"colab-df-convert\" onclick=\"convertToInteractive('df-7f3e4b20-c1a4-4cee-b66f-7d37e4e2d0c4')\"\n",
              "              title=\"Convert this dataframe to an interactive table.\"\n",
              "              style=\"display:none;\">\n",
              "        \n",
              "  <svg xmlns=\"http://www.w3.org/2000/svg\" height=\"24px\"viewBox=\"0 0 24 24\"\n",
              "       width=\"24px\">\n",
              "    <path d=\"M0 0h24v24H0V0z\" fill=\"none\"/>\n",
              "    <path d=\"M18.56 5.44l.94 2.06.94-2.06 2.06-.94-2.06-.94-.94-2.06-.94 2.06-2.06.94zm-11 1L8.5 8.5l.94-2.06 2.06-.94-2.06-.94L8.5 2.5l-.94 2.06-2.06.94zm10 10l.94 2.06.94-2.06 2.06-.94-2.06-.94-.94-2.06-.94 2.06-2.06.94z\"/><path d=\"M17.41 7.96l-1.37-1.37c-.4-.4-.92-.59-1.43-.59-.52 0-1.04.2-1.43.59L10.3 9.45l-7.72 7.72c-.78.78-.78 2.05 0 2.83L4 21.41c.39.39.9.59 1.41.59.51 0 1.02-.2 1.41-.59l7.78-7.78 2.81-2.81c.8-.78.8-2.07 0-2.86zM5.41 20L4 18.59l7.72-7.72 1.47 1.35L5.41 20z\"/>\n",
              "  </svg>\n",
              "      </button>\n",
              "      \n",
              "  <style>\n",
              "    .colab-df-container {\n",
              "      display:flex;\n",
              "      flex-wrap:wrap;\n",
              "      gap: 12px;\n",
              "    }\n",
              "\n",
              "    .colab-df-convert {\n",
              "      background-color: #E8F0FE;\n",
              "      border: none;\n",
              "      border-radius: 50%;\n",
              "      cursor: pointer;\n",
              "      display: none;\n",
              "      fill: #1967D2;\n",
              "      height: 32px;\n",
              "      padding: 0 0 0 0;\n",
              "      width: 32px;\n",
              "    }\n",
              "\n",
              "    .colab-df-convert:hover {\n",
              "      background-color: #E2EBFA;\n",
              "      box-shadow: 0px 1px 2px rgba(60, 64, 67, 0.3), 0px 1px 3px 1px rgba(60, 64, 67, 0.15);\n",
              "      fill: #174EA6;\n",
              "    }\n",
              "\n",
              "    [theme=dark] .colab-df-convert {\n",
              "      background-color: #3B4455;\n",
              "      fill: #D2E3FC;\n",
              "    }\n",
              "\n",
              "    [theme=dark] .colab-df-convert:hover {\n",
              "      background-color: #434B5C;\n",
              "      box-shadow: 0px 1px 3px 1px rgba(0, 0, 0, 0.15);\n",
              "      filter: drop-shadow(0px 1px 2px rgba(0, 0, 0, 0.3));\n",
              "      fill: #FFFFFF;\n",
              "    }\n",
              "  </style>\n",
              "\n",
              "      <script>\n",
              "        const buttonEl =\n",
              "          document.querySelector('#df-7f3e4b20-c1a4-4cee-b66f-7d37e4e2d0c4 button.colab-df-convert');\n",
              "        buttonEl.style.display =\n",
              "          google.colab.kernel.accessAllowed ? 'block' : 'none';\n",
              "\n",
              "        async function convertToInteractive(key) {\n",
              "          const element = document.querySelector('#df-7f3e4b20-c1a4-4cee-b66f-7d37e4e2d0c4');\n",
              "          const dataTable =\n",
              "            await google.colab.kernel.invokeFunction('convertToInteractive',\n",
              "                                                     [key], {});\n",
              "          if (!dataTable) return;\n",
              "\n",
              "          const docLinkHtml = 'Like what you see? Visit the ' +\n",
              "            '<a target=\"_blank\" href=https://colab.research.google.com/notebooks/data_table.ipynb>data table notebook</a>'\n",
              "            + ' to learn more about interactive tables.';\n",
              "          element.innerHTML = '';\n",
              "          dataTable['output_type'] = 'display_data';\n",
              "          await google.colab.output.renderOutput(dataTable, element);\n",
              "          const docLink = document.createElement('div');\n",
              "          docLink.innerHTML = docLinkHtml;\n",
              "          element.appendChild(docLink);\n",
              "        }\n",
              "      </script>\n",
              "    </div>\n",
              "  </div>\n",
              "  "
            ]
          },
          "metadata": {},
          "execution_count": 18
        }
      ]
    },
    {
      "cell_type": "code",
      "source": [
        "df.info()"
      ],
      "metadata": {
        "id": "q9ufqENMAsMZ",
        "colab": {
          "base_uri": "https://localhost:8080/"
        },
        "outputId": "1cf88000-b8e3-406f-bc69-1caa02b36821"
      },
      "execution_count": null,
      "outputs": [
        {
          "output_type": "stream",
          "name": "stdout",
          "text": [
            "<class 'pandas.core.frame.DataFrame'>\n",
            "Int64Index: 15593 entries, 0 to 15640\n",
            "Data columns (total 5 columns):\n",
            " #   Column       Non-Null Count  Dtype \n",
            "---  ------       --------------  ----- \n",
            " 0   Title        15593 non-null  object\n",
            " 1   Ingredients  15593 non-null  object\n",
            " 2   Steps        15593 non-null  object\n",
            " 3   URL          15593 non-null  object\n",
            " 4   tag          15593 non-null  object\n",
            "dtypes: object(5)\n",
            "memory usage: 730.9+ KB\n"
          ]
        }
      ]
    },
    {
      "cell_type": "code",
      "source": [
        "df.head()"
      ],
      "metadata": {
        "id": "AIlboxh5QIPQ",
        "colab": {
          "base_uri": "https://localhost:8080/",
          "height": 206
        },
        "outputId": "9f6458b3-e3b9-4df1-9849-68c5d4ee82a8"
      },
      "execution_count": null,
      "outputs": [
        {
          "output_type": "execute_result",
          "data": {
            "text/plain": [
              "                      Title  \\\n",
              "0          Ayam Woku Manado   \n",
              "1  Ayam goreng tulang lunak   \n",
              "2          Ayam cabai kawin   \n",
              "3               Ayam Geprek   \n",
              "4               Minyak Ayam   \n",
              "\n",
              "                                         Ingredients  \\\n",
              "0  [1 Ekor Ayam Kampung (potong 12), 2 Buah Jeruk...   \n",
              "1  [1 kg ayam (dipotong sesuai selera jangan keci...   \n",
              "2  [1/4 kg ayam, 3 buah cabai hijau besar, 7 buah...   \n",
              "3  [250 gr daging ayam (saya pakai fillet), Secuk...   \n",
              "4  [400 gr kulit ayam & lemaknya, 8 siung bawang ...   \n",
              "\n",
              "                                               Steps  \\\n",
              "0  Cuci bersih ayam dan tiriskan. Lalu peras jeru...   \n",
              "1  Haluskan bumbu2nya (BaPut, ketumbar, kemiri, k...   \n",
              "2  Panaskan minyak di dalam wajan. Setelah minyak...   \n",
              "3  Goreng ayam seperti ayam krispi--Ulek semua ba...   \n",
              "4  Cuci bersih kulit ayam. Sisihkan--Ambil 50 ml ...   \n",
              "\n",
              "                                                 URL   tag  \n",
              "0  https://storage.googleapis.com/reciphy-bucket-...  ayam  \n",
              "1  https://storage.googleapis.com/reciphy-bucket-...  ayam  \n",
              "2  https://storage.googleapis.com/reciphy-bucket-...  ayam  \n",
              "3  https://storage.googleapis.com/reciphy-bucket-...  ayam  \n",
              "4  https://storage.googleapis.com/reciphy-bucket-...  ayam  "
            ],
            "text/html": [
              "\n",
              "  <div id=\"df-a023e445-973d-4f0b-a75d-77cca6b2698a\">\n",
              "    <div class=\"colab-df-container\">\n",
              "      <div>\n",
              "<style scoped>\n",
              "    .dataframe tbody tr th:only-of-type {\n",
              "        vertical-align: middle;\n",
              "    }\n",
              "\n",
              "    .dataframe tbody tr th {\n",
              "        vertical-align: top;\n",
              "    }\n",
              "\n",
              "    .dataframe thead th {\n",
              "        text-align: right;\n",
              "    }\n",
              "</style>\n",
              "<table border=\"1\" class=\"dataframe\">\n",
              "  <thead>\n",
              "    <tr style=\"text-align: right;\">\n",
              "      <th></th>\n",
              "      <th>Title</th>\n",
              "      <th>Ingredients</th>\n",
              "      <th>Steps</th>\n",
              "      <th>URL</th>\n",
              "      <th>tag</th>\n",
              "    </tr>\n",
              "  </thead>\n",
              "  <tbody>\n",
              "    <tr>\n",
              "      <th>0</th>\n",
              "      <td>Ayam Woku Manado</td>\n",
              "      <td>[1 Ekor Ayam Kampung (potong 12), 2 Buah Jeruk...</td>\n",
              "      <td>Cuci bersih ayam dan tiriskan. Lalu peras jeru...</td>\n",
              "      <td>https://storage.googleapis.com/reciphy-bucket-...</td>\n",
              "      <td>ayam</td>\n",
              "    </tr>\n",
              "    <tr>\n",
              "      <th>1</th>\n",
              "      <td>Ayam goreng tulang lunak</td>\n",
              "      <td>[1 kg ayam (dipotong sesuai selera jangan keci...</td>\n",
              "      <td>Haluskan bumbu2nya (BaPut, ketumbar, kemiri, k...</td>\n",
              "      <td>https://storage.googleapis.com/reciphy-bucket-...</td>\n",
              "      <td>ayam</td>\n",
              "    </tr>\n",
              "    <tr>\n",
              "      <th>2</th>\n",
              "      <td>Ayam cabai kawin</td>\n",
              "      <td>[1/4 kg ayam, 3 buah cabai hijau besar, 7 buah...</td>\n",
              "      <td>Panaskan minyak di dalam wajan. Setelah minyak...</td>\n",
              "      <td>https://storage.googleapis.com/reciphy-bucket-...</td>\n",
              "      <td>ayam</td>\n",
              "    </tr>\n",
              "    <tr>\n",
              "      <th>3</th>\n",
              "      <td>Ayam Geprek</td>\n",
              "      <td>[250 gr daging ayam (saya pakai fillet), Secuk...</td>\n",
              "      <td>Goreng ayam seperti ayam krispi--Ulek semua ba...</td>\n",
              "      <td>https://storage.googleapis.com/reciphy-bucket-...</td>\n",
              "      <td>ayam</td>\n",
              "    </tr>\n",
              "    <tr>\n",
              "      <th>4</th>\n",
              "      <td>Minyak Ayam</td>\n",
              "      <td>[400 gr kulit ayam &amp; lemaknya, 8 siung bawang ...</td>\n",
              "      <td>Cuci bersih kulit ayam. Sisihkan--Ambil 50 ml ...</td>\n",
              "      <td>https://storage.googleapis.com/reciphy-bucket-...</td>\n",
              "      <td>ayam</td>\n",
              "    </tr>\n",
              "  </tbody>\n",
              "</table>\n",
              "</div>\n",
              "      <button class=\"colab-df-convert\" onclick=\"convertToInteractive('df-a023e445-973d-4f0b-a75d-77cca6b2698a')\"\n",
              "              title=\"Convert this dataframe to an interactive table.\"\n",
              "              style=\"display:none;\">\n",
              "        \n",
              "  <svg xmlns=\"http://www.w3.org/2000/svg\" height=\"24px\"viewBox=\"0 0 24 24\"\n",
              "       width=\"24px\">\n",
              "    <path d=\"M0 0h24v24H0V0z\" fill=\"none\"/>\n",
              "    <path d=\"M18.56 5.44l.94 2.06.94-2.06 2.06-.94-2.06-.94-.94-2.06-.94 2.06-2.06.94zm-11 1L8.5 8.5l.94-2.06 2.06-.94-2.06-.94L8.5 2.5l-.94 2.06-2.06.94zm10 10l.94 2.06.94-2.06 2.06-.94-2.06-.94-.94-2.06-.94 2.06-2.06.94z\"/><path d=\"M17.41 7.96l-1.37-1.37c-.4-.4-.92-.59-1.43-.59-.52 0-1.04.2-1.43.59L10.3 9.45l-7.72 7.72c-.78.78-.78 2.05 0 2.83L4 21.41c.39.39.9.59 1.41.59.51 0 1.02-.2 1.41-.59l7.78-7.78 2.81-2.81c.8-.78.8-2.07 0-2.86zM5.41 20L4 18.59l7.72-7.72 1.47 1.35L5.41 20z\"/>\n",
              "  </svg>\n",
              "      </button>\n",
              "      \n",
              "  <style>\n",
              "    .colab-df-container {\n",
              "      display:flex;\n",
              "      flex-wrap:wrap;\n",
              "      gap: 12px;\n",
              "    }\n",
              "\n",
              "    .colab-df-convert {\n",
              "      background-color: #E8F0FE;\n",
              "      border: none;\n",
              "      border-radius: 50%;\n",
              "      cursor: pointer;\n",
              "      display: none;\n",
              "      fill: #1967D2;\n",
              "      height: 32px;\n",
              "      padding: 0 0 0 0;\n",
              "      width: 32px;\n",
              "    }\n",
              "\n",
              "    .colab-df-convert:hover {\n",
              "      background-color: #E2EBFA;\n",
              "      box-shadow: 0px 1px 2px rgba(60, 64, 67, 0.3), 0px 1px 3px 1px rgba(60, 64, 67, 0.15);\n",
              "      fill: #174EA6;\n",
              "    }\n",
              "\n",
              "    [theme=dark] .colab-df-convert {\n",
              "      background-color: #3B4455;\n",
              "      fill: #D2E3FC;\n",
              "    }\n",
              "\n",
              "    [theme=dark] .colab-df-convert:hover {\n",
              "      background-color: #434B5C;\n",
              "      box-shadow: 0px 1px 3px 1px rgba(0, 0, 0, 0.15);\n",
              "      filter: drop-shadow(0px 1px 2px rgba(0, 0, 0, 0.3));\n",
              "      fill: #FFFFFF;\n",
              "    }\n",
              "  </style>\n",
              "\n",
              "      <script>\n",
              "        const buttonEl =\n",
              "          document.querySelector('#df-a023e445-973d-4f0b-a75d-77cca6b2698a button.colab-df-convert');\n",
              "        buttonEl.style.display =\n",
              "          google.colab.kernel.accessAllowed ? 'block' : 'none';\n",
              "\n",
              "        async function convertToInteractive(key) {\n",
              "          const element = document.querySelector('#df-a023e445-973d-4f0b-a75d-77cca6b2698a');\n",
              "          const dataTable =\n",
              "            await google.colab.kernel.invokeFunction('convertToInteractive',\n",
              "                                                     [key], {});\n",
              "          if (!dataTable) return;\n",
              "\n",
              "          const docLinkHtml = 'Like what you see? Visit the ' +\n",
              "            '<a target=\"_blank\" href=https://colab.research.google.com/notebooks/data_table.ipynb>data table notebook</a>'\n",
              "            + ' to learn more about interactive tables.';\n",
              "          element.innerHTML = '';\n",
              "          dataTable['output_type'] = 'display_data';\n",
              "          await google.colab.output.renderOutput(dataTable, element);\n",
              "          const docLink = document.createElement('div');\n",
              "          docLink.innerHTML = docLinkHtml;\n",
              "          element.appendChild(docLink);\n",
              "        }\n",
              "      </script>\n",
              "    </div>\n",
              "  </div>\n",
              "  "
            ]
          },
          "metadata": {},
          "execution_count": 20
        }
      ]
    },
    {
      "cell_type": "code",
      "source": [
        "import sqlite3"
      ],
      "metadata": {
        "id": "WpfQBnfwBHR_"
      },
      "execution_count": null,
      "outputs": []
    },
    {
      "cell_type": "code",
      "source": [
        "# df['Ingredients'] = df['Ingredients'].apply(lambda x: ', '.join(x))"
      ],
      "metadata": {
        "id": "d-ifii2HE8O5"
      },
      "execution_count": null,
      "outputs": []
    },
    {
      "cell_type": "code",
      "source": [
        "# df['Ingredients'] = df['Ingredients'].str.replace(\"'\", \"\")\n",
        "# df['Steps'] = df['Ingredients'].str.replace(\"'\", \"\")\n",
        "# df['Title'] = df['Ingredients'].str.replace(\"'\", \"\")"
      ],
      "metadata": {
        "id": "ziZ5RWJbRFBK"
      },
      "execution_count": null,
      "outputs": []
    },
    {
      "cell_type": "code",
      "source": [],
      "metadata": {
        "id": "Rgu4vT5BTQsL"
      },
      "execution_count": null,
      "outputs": []
    },
    {
      "cell_type": "code",
      "source": [
        "df.head(1905)"
      ],
      "metadata": {
        "id": "Wt-xoNIbQfmc",
        "colab": {
          "base_uri": "https://localhost:8080/",
          "height": 423
        },
        "outputId": "5e3e4c6c-8a9d-473e-98f9-fa58f0c45e7d"
      },
      "execution_count": null,
      "outputs": [
        {
          "output_type": "execute_result",
          "data": {
            "text/plain": [
              "                          Title  \\\n",
              "0              Ayam Woku Manado   \n",
              "1      Ayam goreng tulang lunak   \n",
              "2              Ayam cabai kawin   \n",
              "3                   Ayam Geprek   \n",
              "4                   Minyak Ayam   \n",
              "...                         ...   \n",
              "1915          Ayam Bumbu Bawang   \n",
              "1916         Gurame Saus Padang   \n",
              "1917  Ikan Kembung Bakar Teflon   \n",
              "1918    Mujaer asam pedas manis   \n",
              "1919          Gurame Asam manis   \n",
              "\n",
              "                                            Ingredients  \\\n",
              "0     [1 Ekor Ayam Kampung (potong 12), 2 Buah Jeruk...   \n",
              "1     [1 kg ayam (dipotong sesuai selera jangan keci...   \n",
              "2     [1/4 kg ayam, 3 buah cabai hijau besar, 7 buah...   \n",
              "3     [250 gr daging ayam (saya pakai fillet), Secuk...   \n",
              "4     [400 gr kulit ayam & lemaknya, 8 siung bawang ...   \n",
              "...                                                 ...   \n",
              "1915  [1 dada ayam fillet, cuci bersih, potong kecil...   \n",
              "1916  [Bahan utama:, 1 ekor gurame, Bumbu untuk saus...   \n",
              "1917  [1/2 kg ikan kembung sate, bersihkan, 1 buah j...   \n",
              "1918  [1/2 kg ikan mujaer (stok gurame habis), 2 bua...   \n",
              "1919  [1/2 kg ikan gurame, 2 buah wortel (potong sep...   \n",
              "\n",
              "                                                  Steps  \\\n",
              "0     Cuci bersih ayam dan tiriskan. Lalu peras jeru...   \n",
              "1     Haluskan bumbu2nya (BaPut, ketumbar, kemiri, k...   \n",
              "2     Panaskan minyak di dalam wajan. Setelah minyak...   \n",
              "3     Goreng ayam seperti ayam krispi--Ulek semua ba...   \n",
              "4     Cuci bersih kulit ayam. Sisihkan--Ambil 50 ml ...   \n",
              "...                                                 ...   \n",
              "1915  Kucuri ayam dengan air jeruk nipis, kemudian m...   \n",
              "1916  Cuci bersih ikan gurame yang akan dimasak. Set...   \n",
              "1917  Kucuri ikan dengan jeruk, diamkan 5 menit--Lum...   \n",
              "1918  Bersihkan ikan sampai benar-benar bersih. Kera...   \n",
              "1919  Uleg kunir sama garam kasih air lalu guraminya...   \n",
              "\n",
              "                                                    URL   tag  \n",
              "0     https://storage.googleapis.com/reciphy-bucket-...  ayam  \n",
              "1     https://storage.googleapis.com/reciphy-bucket-...  ayam  \n",
              "2     https://storage.googleapis.com/reciphy-bucket-...  ayam  \n",
              "3     https://storage.googleapis.com/reciphy-bucket-...  ayam  \n",
              "4     https://storage.googleapis.com/reciphy-bucket-...  ayam  \n",
              "...                                                 ...   ...  \n",
              "1915  https://storage.googleapis.com/reciphy-bucket-...  ayam  \n",
              "1916  https://storage.googleapis.com/reciphy-bucket-...  ikan  \n",
              "1917  https://storage.googleapis.com/reciphy-bucket-...  ikan  \n",
              "1918  https://storage.googleapis.com/reciphy-bucket-...  ikan  \n",
              "1919  https://storage.googleapis.com/reciphy-bucket-...  ikan  \n",
              "\n",
              "[1905 rows x 5 columns]"
            ],
            "text/html": [
              "\n",
              "  <div id=\"df-a56d54e1-65bf-4673-a976-a8bc00a8944a\">\n",
              "    <div class=\"colab-df-container\">\n",
              "      <div>\n",
              "<style scoped>\n",
              "    .dataframe tbody tr th:only-of-type {\n",
              "        vertical-align: middle;\n",
              "    }\n",
              "\n",
              "    .dataframe tbody tr th {\n",
              "        vertical-align: top;\n",
              "    }\n",
              "\n",
              "    .dataframe thead th {\n",
              "        text-align: right;\n",
              "    }\n",
              "</style>\n",
              "<table border=\"1\" class=\"dataframe\">\n",
              "  <thead>\n",
              "    <tr style=\"text-align: right;\">\n",
              "      <th></th>\n",
              "      <th>Title</th>\n",
              "      <th>Ingredients</th>\n",
              "      <th>Steps</th>\n",
              "      <th>URL</th>\n",
              "      <th>tag</th>\n",
              "    </tr>\n",
              "  </thead>\n",
              "  <tbody>\n",
              "    <tr>\n",
              "      <th>0</th>\n",
              "      <td>Ayam Woku Manado</td>\n",
              "      <td>[1 Ekor Ayam Kampung (potong 12), 2 Buah Jeruk...</td>\n",
              "      <td>Cuci bersih ayam dan tiriskan. Lalu peras jeru...</td>\n",
              "      <td>https://storage.googleapis.com/reciphy-bucket-...</td>\n",
              "      <td>ayam</td>\n",
              "    </tr>\n",
              "    <tr>\n",
              "      <th>1</th>\n",
              "      <td>Ayam goreng tulang lunak</td>\n",
              "      <td>[1 kg ayam (dipotong sesuai selera jangan keci...</td>\n",
              "      <td>Haluskan bumbu2nya (BaPut, ketumbar, kemiri, k...</td>\n",
              "      <td>https://storage.googleapis.com/reciphy-bucket-...</td>\n",
              "      <td>ayam</td>\n",
              "    </tr>\n",
              "    <tr>\n",
              "      <th>2</th>\n",
              "      <td>Ayam cabai kawin</td>\n",
              "      <td>[1/4 kg ayam, 3 buah cabai hijau besar, 7 buah...</td>\n",
              "      <td>Panaskan minyak di dalam wajan. Setelah minyak...</td>\n",
              "      <td>https://storage.googleapis.com/reciphy-bucket-...</td>\n",
              "      <td>ayam</td>\n",
              "    </tr>\n",
              "    <tr>\n",
              "      <th>3</th>\n",
              "      <td>Ayam Geprek</td>\n",
              "      <td>[250 gr daging ayam (saya pakai fillet), Secuk...</td>\n",
              "      <td>Goreng ayam seperti ayam krispi--Ulek semua ba...</td>\n",
              "      <td>https://storage.googleapis.com/reciphy-bucket-...</td>\n",
              "      <td>ayam</td>\n",
              "    </tr>\n",
              "    <tr>\n",
              "      <th>4</th>\n",
              "      <td>Minyak Ayam</td>\n",
              "      <td>[400 gr kulit ayam &amp; lemaknya, 8 siung bawang ...</td>\n",
              "      <td>Cuci bersih kulit ayam. Sisihkan--Ambil 50 ml ...</td>\n",
              "      <td>https://storage.googleapis.com/reciphy-bucket-...</td>\n",
              "      <td>ayam</td>\n",
              "    </tr>\n",
              "    <tr>\n",
              "      <th>...</th>\n",
              "      <td>...</td>\n",
              "      <td>...</td>\n",
              "      <td>...</td>\n",
              "      <td>...</td>\n",
              "      <td>...</td>\n",
              "    </tr>\n",
              "    <tr>\n",
              "      <th>1915</th>\n",
              "      <td>Ayam Bumbu Bawang</td>\n",
              "      <td>[1 dada ayam fillet, cuci bersih, potong kecil...</td>\n",
              "      <td>Kucuri ayam dengan air jeruk nipis, kemudian m...</td>\n",
              "      <td>https://storage.googleapis.com/reciphy-bucket-...</td>\n",
              "      <td>ayam</td>\n",
              "    </tr>\n",
              "    <tr>\n",
              "      <th>1916</th>\n",
              "      <td>Gurame Saus Padang</td>\n",
              "      <td>[Bahan utama:, 1 ekor gurame, Bumbu untuk saus...</td>\n",
              "      <td>Cuci bersih ikan gurame yang akan dimasak. Set...</td>\n",
              "      <td>https://storage.googleapis.com/reciphy-bucket-...</td>\n",
              "      <td>ikan</td>\n",
              "    </tr>\n",
              "    <tr>\n",
              "      <th>1917</th>\n",
              "      <td>Ikan Kembung Bakar Teflon</td>\n",
              "      <td>[1/2 kg ikan kembung sate, bersihkan, 1 buah j...</td>\n",
              "      <td>Kucuri ikan dengan jeruk, diamkan 5 menit--Lum...</td>\n",
              "      <td>https://storage.googleapis.com/reciphy-bucket-...</td>\n",
              "      <td>ikan</td>\n",
              "    </tr>\n",
              "    <tr>\n",
              "      <th>1918</th>\n",
              "      <td>Mujaer asam pedas manis</td>\n",
              "      <td>[1/2 kg ikan mujaer (stok gurame habis), 2 bua...</td>\n",
              "      <td>Bersihkan ikan sampai benar-benar bersih. Kera...</td>\n",
              "      <td>https://storage.googleapis.com/reciphy-bucket-...</td>\n",
              "      <td>ikan</td>\n",
              "    </tr>\n",
              "    <tr>\n",
              "      <th>1919</th>\n",
              "      <td>Gurame Asam manis</td>\n",
              "      <td>[1/2 kg ikan gurame, 2 buah wortel (potong sep...</td>\n",
              "      <td>Uleg kunir sama garam kasih air lalu guraminya...</td>\n",
              "      <td>https://storage.googleapis.com/reciphy-bucket-...</td>\n",
              "      <td>ikan</td>\n",
              "    </tr>\n",
              "  </tbody>\n",
              "</table>\n",
              "<p>1905 rows × 5 columns</p>\n",
              "</div>\n",
              "      <button class=\"colab-df-convert\" onclick=\"convertToInteractive('df-a56d54e1-65bf-4673-a976-a8bc00a8944a')\"\n",
              "              title=\"Convert this dataframe to an interactive table.\"\n",
              "              style=\"display:none;\">\n",
              "        \n",
              "  <svg xmlns=\"http://www.w3.org/2000/svg\" height=\"24px\"viewBox=\"0 0 24 24\"\n",
              "       width=\"24px\">\n",
              "    <path d=\"M0 0h24v24H0V0z\" fill=\"none\"/>\n",
              "    <path d=\"M18.56 5.44l.94 2.06.94-2.06 2.06-.94-2.06-.94-.94-2.06-.94 2.06-2.06.94zm-11 1L8.5 8.5l.94-2.06 2.06-.94-2.06-.94L8.5 2.5l-.94 2.06-2.06.94zm10 10l.94 2.06.94-2.06 2.06-.94-2.06-.94-.94-2.06-.94 2.06-2.06.94z\"/><path d=\"M17.41 7.96l-1.37-1.37c-.4-.4-.92-.59-1.43-.59-.52 0-1.04.2-1.43.59L10.3 9.45l-7.72 7.72c-.78.78-.78 2.05 0 2.83L4 21.41c.39.39.9.59 1.41.59.51 0 1.02-.2 1.41-.59l7.78-7.78 2.81-2.81c.8-.78.8-2.07 0-2.86zM5.41 20L4 18.59l7.72-7.72 1.47 1.35L5.41 20z\"/>\n",
              "  </svg>\n",
              "      </button>\n",
              "      \n",
              "  <style>\n",
              "    .colab-df-container {\n",
              "      display:flex;\n",
              "      flex-wrap:wrap;\n",
              "      gap: 12px;\n",
              "    }\n",
              "\n",
              "    .colab-df-convert {\n",
              "      background-color: #E8F0FE;\n",
              "      border: none;\n",
              "      border-radius: 50%;\n",
              "      cursor: pointer;\n",
              "      display: none;\n",
              "      fill: #1967D2;\n",
              "      height: 32px;\n",
              "      padding: 0 0 0 0;\n",
              "      width: 32px;\n",
              "    }\n",
              "\n",
              "    .colab-df-convert:hover {\n",
              "      background-color: #E2EBFA;\n",
              "      box-shadow: 0px 1px 2px rgba(60, 64, 67, 0.3), 0px 1px 3px 1px rgba(60, 64, 67, 0.15);\n",
              "      fill: #174EA6;\n",
              "    }\n",
              "\n",
              "    [theme=dark] .colab-df-convert {\n",
              "      background-color: #3B4455;\n",
              "      fill: #D2E3FC;\n",
              "    }\n",
              "\n",
              "    [theme=dark] .colab-df-convert:hover {\n",
              "      background-color: #434B5C;\n",
              "      box-shadow: 0px 1px 3px 1px rgba(0, 0, 0, 0.15);\n",
              "      filter: drop-shadow(0px 1px 2px rgba(0, 0, 0, 0.3));\n",
              "      fill: #FFFFFF;\n",
              "    }\n",
              "  </style>\n",
              "\n",
              "      <script>\n",
              "        const buttonEl =\n",
              "          document.querySelector('#df-a56d54e1-65bf-4673-a976-a8bc00a8944a button.colab-df-convert');\n",
              "        buttonEl.style.display =\n",
              "          google.colab.kernel.accessAllowed ? 'block' : 'none';\n",
              "\n",
              "        async function convertToInteractive(key) {\n",
              "          const element = document.querySelector('#df-a56d54e1-65bf-4673-a976-a8bc00a8944a');\n",
              "          const dataTable =\n",
              "            await google.colab.kernel.invokeFunction('convertToInteractive',\n",
              "                                                     [key], {});\n",
              "          if (!dataTable) return;\n",
              "\n",
              "          const docLinkHtml = 'Like what you see? Visit the ' +\n",
              "            '<a target=\"_blank\" href=https://colab.research.google.com/notebooks/data_table.ipynb>data table notebook</a>'\n",
              "            + ' to learn more about interactive tables.';\n",
              "          element.innerHTML = '';\n",
              "          dataTable['output_type'] = 'display_data';\n",
              "          await google.colab.output.renderOutput(dataTable, element);\n",
              "          const docLink = document.createElement('div');\n",
              "          docLink.innerHTML = docLinkHtml;\n",
              "          element.appendChild(docLink);\n",
              "        }\n",
              "      </script>\n",
              "    </div>\n",
              "  </div>\n",
              "  "
            ]
          },
          "metadata": {},
          "execution_count": 24
        }
      ]
    },
    {
      "cell_type": "code",
      "source": [],
      "metadata": {
        "id": "soPs81z2Qfo7"
      },
      "execution_count": null,
      "outputs": []
    },
    {
      "cell_type": "code",
      "source": [
        "# with open('data.sql', 'w') as file:\n",
        "#     file.write('CREATE TABLE recipes (id INT PRIMARY KEY, title VARCHAR(100), ingredients VARCHAR(200), steps TEXT, url VARCHAR(200), tag VARCHAR(50));\\n\\n')\n",
        "#     for index, row in df.iterrows():\n",
        "#         steps = row['Steps'].replace(\"'\", \" \")\n",
        "#         file.write(f\"INSERT INTO recipes (id, title, ingredients, steps, url, tag) VALUES ({index+1}, '{row['Title']}', '{row['Ingredients']}', '{steps}', '{row['URL']}', '{row['tag']}');\\n\")"
      ],
      "metadata": {
        "id": "C1HJkx2RBu-d"
      },
      "execution_count": null,
      "outputs": []
    },
    {
      "cell_type": "code",
      "source": [
        "# import sqlite3\n",
        "\n",
        "# # Membuat koneksi ke database SQLite\n",
        "# conn = sqlite3.connect('data.db')\n",
        "\n",
        "# # Membaca file SQL dan mengeksekusi perintah-perintah SQL\n",
        "# with open('sample_data/data.sql', 'r') as file:\n",
        "#     sql_statements = file.read()\n",
        "#     conn.executescript(sql_statements)\n",
        "\n",
        "# # Mengeksekusi query untuk membaca tabel 'recipes'\n",
        "# query = \"SELECT * FROM recipes\"\n",
        "\n",
        "# # Membaca hasil query ke dalam DataFrame\n",
        "# dff = pd.read_sql_query(query, conn)\n",
        "\n",
        "# # Menutup koneksi ke database\n",
        "# conn.close()\n",
        "\n",
        "# # Menampilkan DataFrame"
      ],
      "metadata": {
        "id": "gm6QyJKXLzSt"
      },
      "execution_count": null,
      "outputs": []
    },
    {
      "cell_type": "code",
      "source": [
        "df['ingredient_text'] = ['; '.join(ingredients) for ingredients in df['Ingredients']]\n",
        "df['ingredient_text'].head()"
      ],
      "metadata": {
        "id": "vcvma1eXP5V0",
        "colab": {
          "base_uri": "https://localhost:8080/"
        },
        "outputId": "f51d8d8b-eae7-4837-ba87-6959cb07c8eb"
      },
      "execution_count": null,
      "outputs": [
        {
          "output_type": "execute_result",
          "data": {
            "text/plain": [
              "0    1 Ekor Ayam Kampung (potong 12); 2 Buah Jeruk ...\n",
              "1    1 kg ayam (dipotong sesuai selera jangan kecil...\n",
              "2    1/4 kg ayam; 3 buah cabai hijau besar; 7 buah ...\n",
              "3    250 gr daging ayam (saya pakai fillet); Secuku...\n",
              "4    400 gr kulit ayam & lemaknya; 8 siung bawang p...\n",
              "Name: ingredient_text, dtype: object"
            ]
          },
          "metadata": {},
          "execution_count": 27
        }
      ]
    },
    {
      "cell_type": "code",
      "source": [
        "df['ingredient_count'] = [len(ingredients) for ingredients in df['Ingredients']]"
      ],
      "metadata": {
        "id": "hw0wgcyVPns5"
      },
      "execution_count": null,
      "outputs": []
    },
    {
      "cell_type": "code",
      "source": [
        "df.head(5)"
      ],
      "metadata": {
        "id": "OvTt2cOSPtJV",
        "colab": {
          "base_uri": "https://localhost:8080/",
          "height": 337
        },
        "outputId": "1014ea0b-383a-4ed7-e552-b7a2a3f5f3f9"
      },
      "execution_count": null,
      "outputs": [
        {
          "output_type": "execute_result",
          "data": {
            "text/plain": [
              "                      Title  \\\n",
              "0          Ayam Woku Manado   \n",
              "1  Ayam goreng tulang lunak   \n",
              "2          Ayam cabai kawin   \n",
              "3               Ayam Geprek   \n",
              "4               Minyak Ayam   \n",
              "\n",
              "                                         Ingredients  \\\n",
              "0  [1 Ekor Ayam Kampung (potong 12), 2 Buah Jeruk...   \n",
              "1  [1 kg ayam (dipotong sesuai selera jangan keci...   \n",
              "2  [1/4 kg ayam, 3 buah cabai hijau besar, 7 buah...   \n",
              "3  [250 gr daging ayam (saya pakai fillet), Secuk...   \n",
              "4  [400 gr kulit ayam & lemaknya, 8 siung bawang ...   \n",
              "\n",
              "                                               Steps  \\\n",
              "0  Cuci bersih ayam dan tiriskan. Lalu peras jeru...   \n",
              "1  Haluskan bumbu2nya (BaPut, ketumbar, kemiri, k...   \n",
              "2  Panaskan minyak di dalam wajan. Setelah minyak...   \n",
              "3  Goreng ayam seperti ayam krispi--Ulek semua ba...   \n",
              "4  Cuci bersih kulit ayam. Sisihkan--Ambil 50 ml ...   \n",
              "\n",
              "                                                 URL   tag  \\\n",
              "0  https://storage.googleapis.com/reciphy-bucket-...  ayam   \n",
              "1  https://storage.googleapis.com/reciphy-bucket-...  ayam   \n",
              "2  https://storage.googleapis.com/reciphy-bucket-...  ayam   \n",
              "3  https://storage.googleapis.com/reciphy-bucket-...  ayam   \n",
              "4  https://storage.googleapis.com/reciphy-bucket-...  ayam   \n",
              "\n",
              "                                     ingredient_text  ingredient_count  \n",
              "0  1 Ekor Ayam Kampung (potong 12); 2 Buah Jeruk ...                15  \n",
              "1  1 kg ayam (dipotong sesuai selera jangan kecil...                12  \n",
              "2  1/4 kg ayam; 3 buah cabai hijau besar; 7 buah ...                11  \n",
              "3  250 gr daging ayam (saya pakai fillet); Secuku...                 8  \n",
              "4  400 gr kulit ayam & lemaknya; 8 siung bawang p...                 6  "
            ],
            "text/html": [
              "\n",
              "  <div id=\"df-401b6f93-d360-4f92-9acf-eb00458093b1\">\n",
              "    <div class=\"colab-df-container\">\n",
              "      <div>\n",
              "<style scoped>\n",
              "    .dataframe tbody tr th:only-of-type {\n",
              "        vertical-align: middle;\n",
              "    }\n",
              "\n",
              "    .dataframe tbody tr th {\n",
              "        vertical-align: top;\n",
              "    }\n",
              "\n",
              "    .dataframe thead th {\n",
              "        text-align: right;\n",
              "    }\n",
              "</style>\n",
              "<table border=\"1\" class=\"dataframe\">\n",
              "  <thead>\n",
              "    <tr style=\"text-align: right;\">\n",
              "      <th></th>\n",
              "      <th>Title</th>\n",
              "      <th>Ingredients</th>\n",
              "      <th>Steps</th>\n",
              "      <th>URL</th>\n",
              "      <th>tag</th>\n",
              "      <th>ingredient_text</th>\n",
              "      <th>ingredient_count</th>\n",
              "    </tr>\n",
              "  </thead>\n",
              "  <tbody>\n",
              "    <tr>\n",
              "      <th>0</th>\n",
              "      <td>Ayam Woku Manado</td>\n",
              "      <td>[1 Ekor Ayam Kampung (potong 12), 2 Buah Jeruk...</td>\n",
              "      <td>Cuci bersih ayam dan tiriskan. Lalu peras jeru...</td>\n",
              "      <td>https://storage.googleapis.com/reciphy-bucket-...</td>\n",
              "      <td>ayam</td>\n",
              "      <td>1 Ekor Ayam Kampung (potong 12); 2 Buah Jeruk ...</td>\n",
              "      <td>15</td>\n",
              "    </tr>\n",
              "    <tr>\n",
              "      <th>1</th>\n",
              "      <td>Ayam goreng tulang lunak</td>\n",
              "      <td>[1 kg ayam (dipotong sesuai selera jangan keci...</td>\n",
              "      <td>Haluskan bumbu2nya (BaPut, ketumbar, kemiri, k...</td>\n",
              "      <td>https://storage.googleapis.com/reciphy-bucket-...</td>\n",
              "      <td>ayam</td>\n",
              "      <td>1 kg ayam (dipotong sesuai selera jangan kecil...</td>\n",
              "      <td>12</td>\n",
              "    </tr>\n",
              "    <tr>\n",
              "      <th>2</th>\n",
              "      <td>Ayam cabai kawin</td>\n",
              "      <td>[1/4 kg ayam, 3 buah cabai hijau besar, 7 buah...</td>\n",
              "      <td>Panaskan minyak di dalam wajan. Setelah minyak...</td>\n",
              "      <td>https://storage.googleapis.com/reciphy-bucket-...</td>\n",
              "      <td>ayam</td>\n",
              "      <td>1/4 kg ayam; 3 buah cabai hijau besar; 7 buah ...</td>\n",
              "      <td>11</td>\n",
              "    </tr>\n",
              "    <tr>\n",
              "      <th>3</th>\n",
              "      <td>Ayam Geprek</td>\n",
              "      <td>[250 gr daging ayam (saya pakai fillet), Secuk...</td>\n",
              "      <td>Goreng ayam seperti ayam krispi--Ulek semua ba...</td>\n",
              "      <td>https://storage.googleapis.com/reciphy-bucket-...</td>\n",
              "      <td>ayam</td>\n",
              "      <td>250 gr daging ayam (saya pakai fillet); Secuku...</td>\n",
              "      <td>8</td>\n",
              "    </tr>\n",
              "    <tr>\n",
              "      <th>4</th>\n",
              "      <td>Minyak Ayam</td>\n",
              "      <td>[400 gr kulit ayam &amp; lemaknya, 8 siung bawang ...</td>\n",
              "      <td>Cuci bersih kulit ayam. Sisihkan--Ambil 50 ml ...</td>\n",
              "      <td>https://storage.googleapis.com/reciphy-bucket-...</td>\n",
              "      <td>ayam</td>\n",
              "      <td>400 gr kulit ayam &amp; lemaknya; 8 siung bawang p...</td>\n",
              "      <td>6</td>\n",
              "    </tr>\n",
              "  </tbody>\n",
              "</table>\n",
              "</div>\n",
              "      <button class=\"colab-df-convert\" onclick=\"convertToInteractive('df-401b6f93-d360-4f92-9acf-eb00458093b1')\"\n",
              "              title=\"Convert this dataframe to an interactive table.\"\n",
              "              style=\"display:none;\">\n",
              "        \n",
              "  <svg xmlns=\"http://www.w3.org/2000/svg\" height=\"24px\"viewBox=\"0 0 24 24\"\n",
              "       width=\"24px\">\n",
              "    <path d=\"M0 0h24v24H0V0z\" fill=\"none\"/>\n",
              "    <path d=\"M18.56 5.44l.94 2.06.94-2.06 2.06-.94-2.06-.94-.94-2.06-.94 2.06-2.06.94zm-11 1L8.5 8.5l.94-2.06 2.06-.94-2.06-.94L8.5 2.5l-.94 2.06-2.06.94zm10 10l.94 2.06.94-2.06 2.06-.94-2.06-.94-.94-2.06-.94 2.06-2.06.94z\"/><path d=\"M17.41 7.96l-1.37-1.37c-.4-.4-.92-.59-1.43-.59-.52 0-1.04.2-1.43.59L10.3 9.45l-7.72 7.72c-.78.78-.78 2.05 0 2.83L4 21.41c.39.39.9.59 1.41.59.51 0 1.02-.2 1.41-.59l7.78-7.78 2.81-2.81c.8-.78.8-2.07 0-2.86zM5.41 20L4 18.59l7.72-7.72 1.47 1.35L5.41 20z\"/>\n",
              "  </svg>\n",
              "      </button>\n",
              "      \n",
              "  <style>\n",
              "    .colab-df-container {\n",
              "      display:flex;\n",
              "      flex-wrap:wrap;\n",
              "      gap: 12px;\n",
              "    }\n",
              "\n",
              "    .colab-df-convert {\n",
              "      background-color: #E8F0FE;\n",
              "      border: none;\n",
              "      border-radius: 50%;\n",
              "      cursor: pointer;\n",
              "      display: none;\n",
              "      fill: #1967D2;\n",
              "      height: 32px;\n",
              "      padding: 0 0 0 0;\n",
              "      width: 32px;\n",
              "    }\n",
              "\n",
              "    .colab-df-convert:hover {\n",
              "      background-color: #E2EBFA;\n",
              "      box-shadow: 0px 1px 2px rgba(60, 64, 67, 0.3), 0px 1px 3px 1px rgba(60, 64, 67, 0.15);\n",
              "      fill: #174EA6;\n",
              "    }\n",
              "\n",
              "    [theme=dark] .colab-df-convert {\n",
              "      background-color: #3B4455;\n",
              "      fill: #D2E3FC;\n",
              "    }\n",
              "\n",
              "    [theme=dark] .colab-df-convert:hover {\n",
              "      background-color: #434B5C;\n",
              "      box-shadow: 0px 1px 3px 1px rgba(0, 0, 0, 0.15);\n",
              "      filter: drop-shadow(0px 1px 2px rgba(0, 0, 0, 0.3));\n",
              "      fill: #FFFFFF;\n",
              "    }\n",
              "  </style>\n",
              "\n",
              "      <script>\n",
              "        const buttonEl =\n",
              "          document.querySelector('#df-401b6f93-d360-4f92-9acf-eb00458093b1 button.colab-df-convert');\n",
              "        buttonEl.style.display =\n",
              "          google.colab.kernel.accessAllowed ? 'block' : 'none';\n",
              "\n",
              "        async function convertToInteractive(key) {\n",
              "          const element = document.querySelector('#df-401b6f93-d360-4f92-9acf-eb00458093b1');\n",
              "          const dataTable =\n",
              "            await google.colab.kernel.invokeFunction('convertToInteractive',\n",
              "                                                     [key], {});\n",
              "          if (!dataTable) return;\n",
              "\n",
              "          const docLinkHtml = 'Like what you see? Visit the ' +\n",
              "            '<a target=\"_blank\" href=https://colab.research.google.com/notebooks/data_table.ipynb>data table notebook</a>'\n",
              "            + ' to learn more about interactive tables.';\n",
              "          element.innerHTML = '';\n",
              "          dataTable['output_type'] = 'display_data';\n",
              "          await google.colab.output.renderOutput(dataTable, element);\n",
              "          const docLink = document.createElement('div');\n",
              "          docLink.innerHTML = docLinkHtml;\n",
              "          element.appendChild(docLink);\n",
              "        }\n",
              "      </script>\n",
              "    </div>\n",
              "  </div>\n",
              "  "
            ]
          },
          "metadata": {},
          "execution_count": 29
        }
      ]
    },
    {
      "cell_type": "code",
      "source": [
        "all_text = df['Title'] + ' ' + df['ingredient_text'] + ' ' + df['Steps']\n",
        "all_text[0]"
      ],
      "metadata": {
        "id": "soVY5PioQOFA",
        "colab": {
          "base_uri": "https://localhost:8080/",
          "height": 127
        },
        "outputId": "9e7b9e2a-4e04-46c1-d6bb-767760363b89"
      },
      "execution_count": null,
      "outputs": [
        {
          "output_type": "execute_result",
          "data": {
            "text/plain": [
              "'Ayam Woku Manado 1 Ekor Ayam Kampung (potong 12); 2 Buah Jeruk Nipis; 2 Sdm Garam; 3 Ruas Kunyit; 7 Bawang Merah; 7 Bawang Putih; 10 Cabe Merah; 10 Cabe Rawit Merah (sesuai selera); 3 Butir Kemiri; 2 Batang Sereh; 2 Lembar Daun Salam; 2 Ikat Daun Kemangi; Penyedap Rasa; 1 1/2 Gelas Air;  Cuci bersih ayam dan tiriskan. Lalu peras jeruk nipis (kalo gak ada jeruk nipis bisa pake cuka) dan beri garam. Aduk hingga merata dan diamkan selama 5 menit, biar ayam gak bau amis.--Goreng ayam tersebut setengah matang, lalu tiriskan--Haluskan bumbu menggunakan blender. Bawang merah, bawang putih, cabe merah, cabe rawit, kemiri dan kunyit. Oh iya kasih minyak sedikit yaa biar bisa di blender. Untuk sereh nya di geprek aja terus di buat simpul.--Setelah bumbu di haluskan barulah di tumis. Jangan lupa sereh dan daun salamnya juga ikut di tumis. Di tumis sampai berubah warna ya 👌--Masukan ayam yang sudah di goreng setengah matang ke dalam bumbu yang sudah di tumis, dan diamkan 5 menit dulu. Biar bumbu meresap. Lalu tuangkan 1 1/2 Gelas air. Lalu tambahkan penyedap rasa (saya 3 Sdt, tapi sesuai selera ya) koreksi rasa dan Biar kan sampai mendidih--Setelah masakan mendidih, lalu masukan daun kemangi yang sudah di potong potong. Masak lagi sekitar 10 menit. And taraaaaaaaaaaaaaa..... jadi deh Ayam Woku Manadonya.--Oh iyaa kalo mau di tambahkan potongan tomat merah juga bisa ko. Sesuai selera aja yaa buibuuuu 👌👌👌--'"
            ],
            "application/vnd.google.colaboratory.intrinsic+json": {
              "type": "string"
            }
          },
          "metadata": {},
          "execution_count": 30
        }
      ]
    },
    {
      "cell_type": "code",
      "source": [
        "import string\n",
        "import re\n",
        "\n",
        "def clean_text(documents):\n",
        "    cleaned_text = []\n",
        "    for doc in documents:\n",
        "        doc = doc.translate(str.maketrans('', '', string.punctuation)) # Remove Punctuation\n",
        "        doc = re.sub(r'\\d+', '', doc) # Remove Digits\n",
        "        doc = doc.replace('\\n',' ') # Remove New Lines\n",
        "        doc = doc.strip() # Remove Leading White Space\n",
        "        doc = re.sub(' +', ' ', doc) # Remove multiple white spaces\n",
        "        cleaned_text.append(doc)\n",
        "    return cleaned_text\n",
        "\n",
        "# Cleaning Text\n",
        "cleaned_text = clean_text(all_text)"
      ],
      "metadata": {
        "id": "2ZXlgE39QfL3"
      },
      "execution_count": null,
      "outputs": []
    },
    {
      "cell_type": "code",
      "source": [
        "cleaned_text[2]"
      ],
      "metadata": {
        "id": "SScnUfo7QhU-",
        "colab": {
          "base_uri": "https://localhost:8080/",
          "height": 90
        },
        "outputId": "a99db0fb-98ed-4ff0-e9e1-e5f98776bbcb"
      },
      "execution_count": null,
      "outputs": [
        {
          "output_type": "execute_result",
          "data": {
            "text/plain": [
              "'Ayam cabai kawin kg ayam buah cabai hijau besar buah cabai merah rawit siung bawang putih siung bawang merah secukupnya Gula secukupnya Garam buah tomat merah secukupnya Air secukupnya Minyak goreng Panaskan minyak di dalam wajan Setelah minyak panas masukkan ayam yang sudah dipotong dadu Goreng hingga matang Lalu tiriskanHaluskan bawang putih bawang merah cabai hijau dan merah tomatPanaskan minyak didalam wajan Setelah minyak panas masukkan bumbu yang sudah halus Tunggu sampai wangi Masukkan ayam yang sudah di goreng Tambahkan air gula dan garam Tunggu sampai bumbu meresap di ayam Sajikan'"
            ],
            "application/vnd.google.colaboratory.intrinsic+json": {
              "type": "string"
            }
          },
          "metadata": {},
          "execution_count": 32
        }
      ]
    },
    {
      "cell_type": "code",
      "source": [
        "df_coba = df[['Title','ingredient_text']]"
      ],
      "metadata": {
        "id": "Yrv1BMORV9XY"
      },
      "execution_count": null,
      "outputs": []
    },
    {
      "cell_type": "code",
      "source": [
        "df_coba.head()"
      ],
      "metadata": {
        "id": "LlqbR2ByW1Uz",
        "colab": {
          "base_uri": "https://localhost:8080/",
          "height": 206
        },
        "outputId": "4133d421-a852-4e3c-8437-99b7008e3362"
      },
      "execution_count": null,
      "outputs": [
        {
          "output_type": "execute_result",
          "data": {
            "text/plain": [
              "                      Title                                    ingredient_text\n",
              "0          Ayam Woku Manado  1 Ekor Ayam Kampung (potong 12); 2 Buah Jeruk ...\n",
              "1  Ayam goreng tulang lunak  1 kg ayam (dipotong sesuai selera jangan kecil...\n",
              "2          Ayam cabai kawin  1/4 kg ayam; 3 buah cabai hijau besar; 7 buah ...\n",
              "3               Ayam Geprek  250 gr daging ayam (saya pakai fillet); Secuku...\n",
              "4               Minyak Ayam  400 gr kulit ayam & lemaknya; 8 siung bawang p..."
            ],
            "text/html": [
              "\n",
              "  <div id=\"df-0b694f37-824a-42cc-aebd-37b305947853\">\n",
              "    <div class=\"colab-df-container\">\n",
              "      <div>\n",
              "<style scoped>\n",
              "    .dataframe tbody tr th:only-of-type {\n",
              "        vertical-align: middle;\n",
              "    }\n",
              "\n",
              "    .dataframe tbody tr th {\n",
              "        vertical-align: top;\n",
              "    }\n",
              "\n",
              "    .dataframe thead th {\n",
              "        text-align: right;\n",
              "    }\n",
              "</style>\n",
              "<table border=\"1\" class=\"dataframe\">\n",
              "  <thead>\n",
              "    <tr style=\"text-align: right;\">\n",
              "      <th></th>\n",
              "      <th>Title</th>\n",
              "      <th>ingredient_text</th>\n",
              "    </tr>\n",
              "  </thead>\n",
              "  <tbody>\n",
              "    <tr>\n",
              "      <th>0</th>\n",
              "      <td>Ayam Woku Manado</td>\n",
              "      <td>1 Ekor Ayam Kampung (potong 12); 2 Buah Jeruk ...</td>\n",
              "    </tr>\n",
              "    <tr>\n",
              "      <th>1</th>\n",
              "      <td>Ayam goreng tulang lunak</td>\n",
              "      <td>1 kg ayam (dipotong sesuai selera jangan kecil...</td>\n",
              "    </tr>\n",
              "    <tr>\n",
              "      <th>2</th>\n",
              "      <td>Ayam cabai kawin</td>\n",
              "      <td>1/4 kg ayam; 3 buah cabai hijau besar; 7 buah ...</td>\n",
              "    </tr>\n",
              "    <tr>\n",
              "      <th>3</th>\n",
              "      <td>Ayam Geprek</td>\n",
              "      <td>250 gr daging ayam (saya pakai fillet); Secuku...</td>\n",
              "    </tr>\n",
              "    <tr>\n",
              "      <th>4</th>\n",
              "      <td>Minyak Ayam</td>\n",
              "      <td>400 gr kulit ayam &amp; lemaknya; 8 siung bawang p...</td>\n",
              "    </tr>\n",
              "  </tbody>\n",
              "</table>\n",
              "</div>\n",
              "      <button class=\"colab-df-convert\" onclick=\"convertToInteractive('df-0b694f37-824a-42cc-aebd-37b305947853')\"\n",
              "              title=\"Convert this dataframe to an interactive table.\"\n",
              "              style=\"display:none;\">\n",
              "        \n",
              "  <svg xmlns=\"http://www.w3.org/2000/svg\" height=\"24px\"viewBox=\"0 0 24 24\"\n",
              "       width=\"24px\">\n",
              "    <path d=\"M0 0h24v24H0V0z\" fill=\"none\"/>\n",
              "    <path d=\"M18.56 5.44l.94 2.06.94-2.06 2.06-.94-2.06-.94-.94-2.06-.94 2.06-2.06.94zm-11 1L8.5 8.5l.94-2.06 2.06-.94-2.06-.94L8.5 2.5l-.94 2.06-2.06.94zm10 10l.94 2.06.94-2.06 2.06-.94-2.06-.94-.94-2.06-.94 2.06-2.06.94z\"/><path d=\"M17.41 7.96l-1.37-1.37c-.4-.4-.92-.59-1.43-.59-.52 0-1.04.2-1.43.59L10.3 9.45l-7.72 7.72c-.78.78-.78 2.05 0 2.83L4 21.41c.39.39.9.59 1.41.59.51 0 1.02-.2 1.41-.59l7.78-7.78 2.81-2.81c.8-.78.8-2.07 0-2.86zM5.41 20L4 18.59l7.72-7.72 1.47 1.35L5.41 20z\"/>\n",
              "  </svg>\n",
              "      </button>\n",
              "      \n",
              "  <style>\n",
              "    .colab-df-container {\n",
              "      display:flex;\n",
              "      flex-wrap:wrap;\n",
              "      gap: 12px;\n",
              "    }\n",
              "\n",
              "    .colab-df-convert {\n",
              "      background-color: #E8F0FE;\n",
              "      border: none;\n",
              "      border-radius: 50%;\n",
              "      cursor: pointer;\n",
              "      display: none;\n",
              "      fill: #1967D2;\n",
              "      height: 32px;\n",
              "      padding: 0 0 0 0;\n",
              "      width: 32px;\n",
              "    }\n",
              "\n",
              "    .colab-df-convert:hover {\n",
              "      background-color: #E2EBFA;\n",
              "      box-shadow: 0px 1px 2px rgba(60, 64, 67, 0.3), 0px 1px 3px 1px rgba(60, 64, 67, 0.15);\n",
              "      fill: #174EA6;\n",
              "    }\n",
              "\n",
              "    [theme=dark] .colab-df-convert {\n",
              "      background-color: #3B4455;\n",
              "      fill: #D2E3FC;\n",
              "    }\n",
              "\n",
              "    [theme=dark] .colab-df-convert:hover {\n",
              "      background-color: #434B5C;\n",
              "      box-shadow: 0px 1px 3px 1px rgba(0, 0, 0, 0.15);\n",
              "      filter: drop-shadow(0px 1px 2px rgba(0, 0, 0, 0.3));\n",
              "      fill: #FFFFFF;\n",
              "    }\n",
              "  </style>\n",
              "\n",
              "      <script>\n",
              "        const buttonEl =\n",
              "          document.querySelector('#df-0b694f37-824a-42cc-aebd-37b305947853 button.colab-df-convert');\n",
              "        buttonEl.style.display =\n",
              "          google.colab.kernel.accessAllowed ? 'block' : 'none';\n",
              "\n",
              "        async function convertToInteractive(key) {\n",
              "          const element = document.querySelector('#df-0b694f37-824a-42cc-aebd-37b305947853');\n",
              "          const dataTable =\n",
              "            await google.colab.kernel.invokeFunction('convertToInteractive',\n",
              "                                                     [key], {});\n",
              "          if (!dataTable) return;\n",
              "\n",
              "          const docLinkHtml = 'Like what you see? Visit the ' +\n",
              "            '<a target=\"_blank\" href=https://colab.research.google.com/notebooks/data_table.ipynb>data table notebook</a>'\n",
              "            + ' to learn more about interactive tables.';\n",
              "          element.innerHTML = '';\n",
              "          dataTable['output_type'] = 'display_data';\n",
              "          await google.colab.output.renderOutput(dataTable, element);\n",
              "          const docLink = document.createElement('div');\n",
              "          docLink.innerHTML = docLinkHtml;\n",
              "          element.appendChild(docLink);\n",
              "        }\n",
              "      </script>\n",
              "    </div>\n",
              "  </div>\n",
              "  "
            ]
          },
          "metadata": {},
          "execution_count": 34
        }
      ]
    },
    {
      "cell_type": "code",
      "source": [
        "import tensorflow as tf\n",
        "import numpy as np"
      ],
      "metadata": {
        "id": "BHW02nuvXUCR"
      },
      "execution_count": null,
      "outputs": []
    },
    {
      "cell_type": "code",
      "source": [
        "# Mengambil daftar bahan masakan unik\n",
        "unique_items = np.unique(df_coba['Title'])"
      ],
      "metadata": {
        "id": "T1VAk2yXW1WH"
      },
      "execution_count": null,
      "outputs": []
    },
    {
      "cell_type": "code",
      "source": [
        "len(unique_items)"
      ],
      "metadata": {
        "id": "i3rfNUlNYIu3",
        "colab": {
          "base_uri": "https://localhost:8080/"
        },
        "outputId": "458a3bfd-6af7-4214-8eb8-e3aeee1425c0"
      },
      "execution_count": null,
      "outputs": [
        {
          "output_type": "execute_result",
          "data": {
            "text/plain": [
              "12468"
            ]
          },
          "metadata": {},
          "execution_count": 37
        }
      ]
    },
    {
      "cell_type": "code",
      "source": [
        "# Mengubah data menjadi one-hot encoding\n",
        "item_to_idx = {item: i for i, item in enumerate(unique_items)}"
      ],
      "metadata": {
        "id": "zqU13ueeYOMm"
      },
      "execution_count": null,
      "outputs": []
    },
    {
      "cell_type": "code",
      "source": [
        "data_encoded = []\n",
        "for _, row in df.iterrows():\n",
        "    ingredients = row['ingredient_text'].split('; ')\n",
        "    item_encoded = [0] * len(unique_items)\n",
        "    for ingredient in ingredients:\n",
        "        if ingredient in item_to_idx:\n",
        "            item_encoded[item_to_idx[ingredient]] = 1\n",
        "    data_encoded.append(np.array(item_encoded))  # Mengubah menjadi numpy array"
      ],
      "metadata": {
        "id": "jiR5aLhnYR1A"
      },
      "execution_count": null,
      "outputs": []
    },
    {
      "cell_type": "code",
      "source": [],
      "metadata": {
        "id": "ksw35YpzYY2T"
      },
      "execution_count": null,
      "outputs": []
    },
    {
      "cell_type": "markdown",
      "source": [
        "#Model"
      ],
      "metadata": {
        "id": "E4RalssHYZXv"
      }
    },
    {
      "cell_type": "code",
      "source": [
        "df.head()"
      ],
      "metadata": {
        "id": "3AsPXdQ6Yagz",
        "colab": {
          "base_uri": "https://localhost:8080/",
          "height": 337
        },
        "outputId": "a7e88ccf-21db-46bb-90d4-55934766c364"
      },
      "execution_count": null,
      "outputs": [
        {
          "output_type": "execute_result",
          "data": {
            "text/plain": [
              "                      Title  \\\n",
              "0          Ayam Woku Manado   \n",
              "1  Ayam goreng tulang lunak   \n",
              "2          Ayam cabai kawin   \n",
              "3               Ayam Geprek   \n",
              "4               Minyak Ayam   \n",
              "\n",
              "                                         Ingredients  \\\n",
              "0  [1 Ekor Ayam Kampung (potong 12), 2 Buah Jeruk...   \n",
              "1  [1 kg ayam (dipotong sesuai selera jangan keci...   \n",
              "2  [1/4 kg ayam, 3 buah cabai hijau besar, 7 buah...   \n",
              "3  [250 gr daging ayam (saya pakai fillet), Secuk...   \n",
              "4  [400 gr kulit ayam & lemaknya, 8 siung bawang ...   \n",
              "\n",
              "                                               Steps  \\\n",
              "0  Cuci bersih ayam dan tiriskan. Lalu peras jeru...   \n",
              "1  Haluskan bumbu2nya (BaPut, ketumbar, kemiri, k...   \n",
              "2  Panaskan minyak di dalam wajan. Setelah minyak...   \n",
              "3  Goreng ayam seperti ayam krispi--Ulek semua ba...   \n",
              "4  Cuci bersih kulit ayam. Sisihkan--Ambil 50 ml ...   \n",
              "\n",
              "                                                 URL   tag  \\\n",
              "0  https://storage.googleapis.com/reciphy-bucket-...  ayam   \n",
              "1  https://storage.googleapis.com/reciphy-bucket-...  ayam   \n",
              "2  https://storage.googleapis.com/reciphy-bucket-...  ayam   \n",
              "3  https://storage.googleapis.com/reciphy-bucket-...  ayam   \n",
              "4  https://storage.googleapis.com/reciphy-bucket-...  ayam   \n",
              "\n",
              "                                     ingredient_text  ingredient_count  \n",
              "0  1 Ekor Ayam Kampung (potong 12); 2 Buah Jeruk ...                15  \n",
              "1  1 kg ayam (dipotong sesuai selera jangan kecil...                12  \n",
              "2  1/4 kg ayam; 3 buah cabai hijau besar; 7 buah ...                11  \n",
              "3  250 gr daging ayam (saya pakai fillet); Secuku...                 8  \n",
              "4  400 gr kulit ayam & lemaknya; 8 siung bawang p...                 6  "
            ],
            "text/html": [
              "\n",
              "  <div id=\"df-dad05894-fcc5-4902-b499-8fd7ade5b3f2\">\n",
              "    <div class=\"colab-df-container\">\n",
              "      <div>\n",
              "<style scoped>\n",
              "    .dataframe tbody tr th:only-of-type {\n",
              "        vertical-align: middle;\n",
              "    }\n",
              "\n",
              "    .dataframe tbody tr th {\n",
              "        vertical-align: top;\n",
              "    }\n",
              "\n",
              "    .dataframe thead th {\n",
              "        text-align: right;\n",
              "    }\n",
              "</style>\n",
              "<table border=\"1\" class=\"dataframe\">\n",
              "  <thead>\n",
              "    <tr style=\"text-align: right;\">\n",
              "      <th></th>\n",
              "      <th>Title</th>\n",
              "      <th>Ingredients</th>\n",
              "      <th>Steps</th>\n",
              "      <th>URL</th>\n",
              "      <th>tag</th>\n",
              "      <th>ingredient_text</th>\n",
              "      <th>ingredient_count</th>\n",
              "    </tr>\n",
              "  </thead>\n",
              "  <tbody>\n",
              "    <tr>\n",
              "      <th>0</th>\n",
              "      <td>Ayam Woku Manado</td>\n",
              "      <td>[1 Ekor Ayam Kampung (potong 12), 2 Buah Jeruk...</td>\n",
              "      <td>Cuci bersih ayam dan tiriskan. Lalu peras jeru...</td>\n",
              "      <td>https://storage.googleapis.com/reciphy-bucket-...</td>\n",
              "      <td>ayam</td>\n",
              "      <td>1 Ekor Ayam Kampung (potong 12); 2 Buah Jeruk ...</td>\n",
              "      <td>15</td>\n",
              "    </tr>\n",
              "    <tr>\n",
              "      <th>1</th>\n",
              "      <td>Ayam goreng tulang lunak</td>\n",
              "      <td>[1 kg ayam (dipotong sesuai selera jangan keci...</td>\n",
              "      <td>Haluskan bumbu2nya (BaPut, ketumbar, kemiri, k...</td>\n",
              "      <td>https://storage.googleapis.com/reciphy-bucket-...</td>\n",
              "      <td>ayam</td>\n",
              "      <td>1 kg ayam (dipotong sesuai selera jangan kecil...</td>\n",
              "      <td>12</td>\n",
              "    </tr>\n",
              "    <tr>\n",
              "      <th>2</th>\n",
              "      <td>Ayam cabai kawin</td>\n",
              "      <td>[1/4 kg ayam, 3 buah cabai hijau besar, 7 buah...</td>\n",
              "      <td>Panaskan minyak di dalam wajan. Setelah minyak...</td>\n",
              "      <td>https://storage.googleapis.com/reciphy-bucket-...</td>\n",
              "      <td>ayam</td>\n",
              "      <td>1/4 kg ayam; 3 buah cabai hijau besar; 7 buah ...</td>\n",
              "      <td>11</td>\n",
              "    </tr>\n",
              "    <tr>\n",
              "      <th>3</th>\n",
              "      <td>Ayam Geprek</td>\n",
              "      <td>[250 gr daging ayam (saya pakai fillet), Secuk...</td>\n",
              "      <td>Goreng ayam seperti ayam krispi--Ulek semua ba...</td>\n",
              "      <td>https://storage.googleapis.com/reciphy-bucket-...</td>\n",
              "      <td>ayam</td>\n",
              "      <td>250 gr daging ayam (saya pakai fillet); Secuku...</td>\n",
              "      <td>8</td>\n",
              "    </tr>\n",
              "    <tr>\n",
              "      <th>4</th>\n",
              "      <td>Minyak Ayam</td>\n",
              "      <td>[400 gr kulit ayam &amp; lemaknya, 8 siung bawang ...</td>\n",
              "      <td>Cuci bersih kulit ayam. Sisihkan--Ambil 50 ml ...</td>\n",
              "      <td>https://storage.googleapis.com/reciphy-bucket-...</td>\n",
              "      <td>ayam</td>\n",
              "      <td>400 gr kulit ayam &amp; lemaknya; 8 siung bawang p...</td>\n",
              "      <td>6</td>\n",
              "    </tr>\n",
              "  </tbody>\n",
              "</table>\n",
              "</div>\n",
              "      <button class=\"colab-df-convert\" onclick=\"convertToInteractive('df-dad05894-fcc5-4902-b499-8fd7ade5b3f2')\"\n",
              "              title=\"Convert this dataframe to an interactive table.\"\n",
              "              style=\"display:none;\">\n",
              "        \n",
              "  <svg xmlns=\"http://www.w3.org/2000/svg\" height=\"24px\"viewBox=\"0 0 24 24\"\n",
              "       width=\"24px\">\n",
              "    <path d=\"M0 0h24v24H0V0z\" fill=\"none\"/>\n",
              "    <path d=\"M18.56 5.44l.94 2.06.94-2.06 2.06-.94-2.06-.94-.94-2.06-.94 2.06-2.06.94zm-11 1L8.5 8.5l.94-2.06 2.06-.94-2.06-.94L8.5 2.5l-.94 2.06-2.06.94zm10 10l.94 2.06.94-2.06 2.06-.94-2.06-.94-.94-2.06-.94 2.06-2.06.94z\"/><path d=\"M17.41 7.96l-1.37-1.37c-.4-.4-.92-.59-1.43-.59-.52 0-1.04.2-1.43.59L10.3 9.45l-7.72 7.72c-.78.78-.78 2.05 0 2.83L4 21.41c.39.39.9.59 1.41.59.51 0 1.02-.2 1.41-.59l7.78-7.78 2.81-2.81c.8-.78.8-2.07 0-2.86zM5.41 20L4 18.59l7.72-7.72 1.47 1.35L5.41 20z\"/>\n",
              "  </svg>\n",
              "      </button>\n",
              "      \n",
              "  <style>\n",
              "    .colab-df-container {\n",
              "      display:flex;\n",
              "      flex-wrap:wrap;\n",
              "      gap: 12px;\n",
              "    }\n",
              "\n",
              "    .colab-df-convert {\n",
              "      background-color: #E8F0FE;\n",
              "      border: none;\n",
              "      border-radius: 50%;\n",
              "      cursor: pointer;\n",
              "      display: none;\n",
              "      fill: #1967D2;\n",
              "      height: 32px;\n",
              "      padding: 0 0 0 0;\n",
              "      width: 32px;\n",
              "    }\n",
              "\n",
              "    .colab-df-convert:hover {\n",
              "      background-color: #E2EBFA;\n",
              "      box-shadow: 0px 1px 2px rgba(60, 64, 67, 0.3), 0px 1px 3px 1px rgba(60, 64, 67, 0.15);\n",
              "      fill: #174EA6;\n",
              "    }\n",
              "\n",
              "    [theme=dark] .colab-df-convert {\n",
              "      background-color: #3B4455;\n",
              "      fill: #D2E3FC;\n",
              "    }\n",
              "\n",
              "    [theme=dark] .colab-df-convert:hover {\n",
              "      background-color: #434B5C;\n",
              "      box-shadow: 0px 1px 3px 1px rgba(0, 0, 0, 0.15);\n",
              "      filter: drop-shadow(0px 1px 2px rgba(0, 0, 0, 0.3));\n",
              "      fill: #FFFFFF;\n",
              "    }\n",
              "  </style>\n",
              "\n",
              "      <script>\n",
              "        const buttonEl =\n",
              "          document.querySelector('#df-dad05894-fcc5-4902-b499-8fd7ade5b3f2 button.colab-df-convert');\n",
              "        buttonEl.style.display =\n",
              "          google.colab.kernel.accessAllowed ? 'block' : 'none';\n",
              "\n",
              "        async function convertToInteractive(key) {\n",
              "          const element = document.querySelector('#df-dad05894-fcc5-4902-b499-8fd7ade5b3f2');\n",
              "          const dataTable =\n",
              "            await google.colab.kernel.invokeFunction('convertToInteractive',\n",
              "                                                     [key], {});\n",
              "          if (!dataTable) return;\n",
              "\n",
              "          const docLinkHtml = 'Like what you see? Visit the ' +\n",
              "            '<a target=\"_blank\" href=https://colab.research.google.com/notebooks/data_table.ipynb>data table notebook</a>'\n",
              "            + ' to learn more about interactive tables.';\n",
              "          element.innerHTML = '';\n",
              "          dataTable['output_type'] = 'display_data';\n",
              "          await google.colab.output.renderOutput(dataTable, element);\n",
              "          const docLink = document.createElement('div');\n",
              "          docLink.innerHTML = docLinkHtml;\n",
              "          element.appendChild(docLink);\n",
              "        }\n",
              "      </script>\n",
              "    </div>\n",
              "  </div>\n",
              "  "
            ]
          },
          "metadata": {},
          "execution_count": 40
        }
      ]
    },
    {
      "cell_type": "code",
      "source": [
        "dff = df.loc[:,['Title','Ingredients','Steps']]\n",
        "dff.head()"
      ],
      "metadata": {
        "id": "Vc6ikZ48Ybw-",
        "colab": {
          "base_uri": "https://localhost:8080/",
          "height": 206
        },
        "outputId": "16833867-7fed-413d-8e09-bb7818a926e3"
      },
      "execution_count": null,
      "outputs": [
        {
          "output_type": "execute_result",
          "data": {
            "text/plain": [
              "                      Title  \\\n",
              "0          Ayam Woku Manado   \n",
              "1  Ayam goreng tulang lunak   \n",
              "2          Ayam cabai kawin   \n",
              "3               Ayam Geprek   \n",
              "4               Minyak Ayam   \n",
              "\n",
              "                                         Ingredients  \\\n",
              "0  [1 Ekor Ayam Kampung (potong 12), 2 Buah Jeruk...   \n",
              "1  [1 kg ayam (dipotong sesuai selera jangan keci...   \n",
              "2  [1/4 kg ayam, 3 buah cabai hijau besar, 7 buah...   \n",
              "3  [250 gr daging ayam (saya pakai fillet), Secuk...   \n",
              "4  [400 gr kulit ayam & lemaknya, 8 siung bawang ...   \n",
              "\n",
              "                                               Steps  \n",
              "0  Cuci bersih ayam dan tiriskan. Lalu peras jeru...  \n",
              "1  Haluskan bumbu2nya (BaPut, ketumbar, kemiri, k...  \n",
              "2  Panaskan minyak di dalam wajan. Setelah minyak...  \n",
              "3  Goreng ayam seperti ayam krispi--Ulek semua ba...  \n",
              "4  Cuci bersih kulit ayam. Sisihkan--Ambil 50 ml ...  "
            ],
            "text/html": [
              "\n",
              "  <div id=\"df-b5136005-2209-4a4a-a1ce-a86b20184afa\">\n",
              "    <div class=\"colab-df-container\">\n",
              "      <div>\n",
              "<style scoped>\n",
              "    .dataframe tbody tr th:only-of-type {\n",
              "        vertical-align: middle;\n",
              "    }\n",
              "\n",
              "    .dataframe tbody tr th {\n",
              "        vertical-align: top;\n",
              "    }\n",
              "\n",
              "    .dataframe thead th {\n",
              "        text-align: right;\n",
              "    }\n",
              "</style>\n",
              "<table border=\"1\" class=\"dataframe\">\n",
              "  <thead>\n",
              "    <tr style=\"text-align: right;\">\n",
              "      <th></th>\n",
              "      <th>Title</th>\n",
              "      <th>Ingredients</th>\n",
              "      <th>Steps</th>\n",
              "    </tr>\n",
              "  </thead>\n",
              "  <tbody>\n",
              "    <tr>\n",
              "      <th>0</th>\n",
              "      <td>Ayam Woku Manado</td>\n",
              "      <td>[1 Ekor Ayam Kampung (potong 12), 2 Buah Jeruk...</td>\n",
              "      <td>Cuci bersih ayam dan tiriskan. Lalu peras jeru...</td>\n",
              "    </tr>\n",
              "    <tr>\n",
              "      <th>1</th>\n",
              "      <td>Ayam goreng tulang lunak</td>\n",
              "      <td>[1 kg ayam (dipotong sesuai selera jangan keci...</td>\n",
              "      <td>Haluskan bumbu2nya (BaPut, ketumbar, kemiri, k...</td>\n",
              "    </tr>\n",
              "    <tr>\n",
              "      <th>2</th>\n",
              "      <td>Ayam cabai kawin</td>\n",
              "      <td>[1/4 kg ayam, 3 buah cabai hijau besar, 7 buah...</td>\n",
              "      <td>Panaskan minyak di dalam wajan. Setelah minyak...</td>\n",
              "    </tr>\n",
              "    <tr>\n",
              "      <th>3</th>\n",
              "      <td>Ayam Geprek</td>\n",
              "      <td>[250 gr daging ayam (saya pakai fillet), Secuk...</td>\n",
              "      <td>Goreng ayam seperti ayam krispi--Ulek semua ba...</td>\n",
              "    </tr>\n",
              "    <tr>\n",
              "      <th>4</th>\n",
              "      <td>Minyak Ayam</td>\n",
              "      <td>[400 gr kulit ayam &amp; lemaknya, 8 siung bawang ...</td>\n",
              "      <td>Cuci bersih kulit ayam. Sisihkan--Ambil 50 ml ...</td>\n",
              "    </tr>\n",
              "  </tbody>\n",
              "</table>\n",
              "</div>\n",
              "      <button class=\"colab-df-convert\" onclick=\"convertToInteractive('df-b5136005-2209-4a4a-a1ce-a86b20184afa')\"\n",
              "              title=\"Convert this dataframe to an interactive table.\"\n",
              "              style=\"display:none;\">\n",
              "        \n",
              "  <svg xmlns=\"http://www.w3.org/2000/svg\" height=\"24px\"viewBox=\"0 0 24 24\"\n",
              "       width=\"24px\">\n",
              "    <path d=\"M0 0h24v24H0V0z\" fill=\"none\"/>\n",
              "    <path d=\"M18.56 5.44l.94 2.06.94-2.06 2.06-.94-2.06-.94-.94-2.06-.94 2.06-2.06.94zm-11 1L8.5 8.5l.94-2.06 2.06-.94-2.06-.94L8.5 2.5l-.94 2.06-2.06.94zm10 10l.94 2.06.94-2.06 2.06-.94-2.06-.94-.94-2.06-.94 2.06-2.06.94z\"/><path d=\"M17.41 7.96l-1.37-1.37c-.4-.4-.92-.59-1.43-.59-.52 0-1.04.2-1.43.59L10.3 9.45l-7.72 7.72c-.78.78-.78 2.05 0 2.83L4 21.41c.39.39.9.59 1.41.59.51 0 1.02-.2 1.41-.59l7.78-7.78 2.81-2.81c.8-.78.8-2.07 0-2.86zM5.41 20L4 18.59l7.72-7.72 1.47 1.35L5.41 20z\"/>\n",
              "  </svg>\n",
              "      </button>\n",
              "      \n",
              "  <style>\n",
              "    .colab-df-container {\n",
              "      display:flex;\n",
              "      flex-wrap:wrap;\n",
              "      gap: 12px;\n",
              "    }\n",
              "\n",
              "    .colab-df-convert {\n",
              "      background-color: #E8F0FE;\n",
              "      border: none;\n",
              "      border-radius: 50%;\n",
              "      cursor: pointer;\n",
              "      display: none;\n",
              "      fill: #1967D2;\n",
              "      height: 32px;\n",
              "      padding: 0 0 0 0;\n",
              "      width: 32px;\n",
              "    }\n",
              "\n",
              "    .colab-df-convert:hover {\n",
              "      background-color: #E2EBFA;\n",
              "      box-shadow: 0px 1px 2px rgba(60, 64, 67, 0.3), 0px 1px 3px 1px rgba(60, 64, 67, 0.15);\n",
              "      fill: #174EA6;\n",
              "    }\n",
              "\n",
              "    [theme=dark] .colab-df-convert {\n",
              "      background-color: #3B4455;\n",
              "      fill: #D2E3FC;\n",
              "    }\n",
              "\n",
              "    [theme=dark] .colab-df-convert:hover {\n",
              "      background-color: #434B5C;\n",
              "      box-shadow: 0px 1px 3px 1px rgba(0, 0, 0, 0.15);\n",
              "      filter: drop-shadow(0px 1px 2px rgba(0, 0, 0, 0.3));\n",
              "      fill: #FFFFFF;\n",
              "    }\n",
              "  </style>\n",
              "\n",
              "      <script>\n",
              "        const buttonEl =\n",
              "          document.querySelector('#df-b5136005-2209-4a4a-a1ce-a86b20184afa button.colab-df-convert');\n",
              "        buttonEl.style.display =\n",
              "          google.colab.kernel.accessAllowed ? 'block' : 'none';\n",
              "\n",
              "        async function convertToInteractive(key) {\n",
              "          const element = document.querySelector('#df-b5136005-2209-4a4a-a1ce-a86b20184afa');\n",
              "          const dataTable =\n",
              "            await google.colab.kernel.invokeFunction('convertToInteractive',\n",
              "                                                     [key], {});\n",
              "          if (!dataTable) return;\n",
              "\n",
              "          const docLinkHtml = 'Like what you see? Visit the ' +\n",
              "            '<a target=\"_blank\" href=https://colab.research.google.com/notebooks/data_table.ipynb>data table notebook</a>'\n",
              "            + ' to learn more about interactive tables.';\n",
              "          element.innerHTML = '';\n",
              "          dataTable['output_type'] = 'display_data';\n",
              "          await google.colab.output.renderOutput(dataTable, element);\n",
              "          const docLink = document.createElement('div');\n",
              "          docLink.innerHTML = docLinkHtml;\n",
              "          element.appendChild(docLink);\n",
              "        }\n",
              "      </script>\n",
              "    </div>\n",
              "  </div>\n",
              "  "
            ]
          },
          "metadata": {},
          "execution_count": 41
        }
      ]
    },
    {
      "cell_type": "code",
      "source": [
        "import re\n",
        "def regex_nodigits_new(s):\n",
        "    '''use regex to clean string: \n",
        "    get rid of punctuations, capitalized letters and numbers'''\n",
        "    s = re.sub(r'[\\d]','',str(s))#replace digits with empty str\n",
        "    return s #only returning ingredients of first recipe?"
      ],
      "metadata": {
        "id": "ZkvnJZDEBoTP"
      },
      "execution_count": null,
      "outputs": []
    },
    {
      "cell_type": "code",
      "source": [
        "#Remove digits\n",
        "data_in=dff['Ingredients'].apply(regex_nodigits_new)\n",
        "data_in"
      ],
      "metadata": {
        "id": "Ree2jJALYdwY",
        "colab": {
          "base_uri": "https://localhost:8080/"
        },
        "outputId": "56867079-53a1-4531-df16-9e7a4e0e70cd"
      },
      "execution_count": null,
      "outputs": [
        {
          "output_type": "execute_result",
          "data": {
            "text/plain": [
              "0        [' Ekor Ayam Kampung (potong )', ' Buah Jeruk ...\n",
              "1        [' kg ayam (dipotong sesuai selera jangan keci...\n",
              "2        ['/ kg ayam', ' buah cabai hijau besar', ' bua...\n",
              "3        [' gr daging ayam (saya pakai fillet)', 'Secuk...\n",
              "4        [' gr kulit ayam & lemaknya', ' siung bawang p...\n",
              "                               ...                        \n",
              "15636    [' kg udang segar', ' buah bawang bombay kecil...\n",
              "15637    [' gr jipang(saya pk bh jipang muda yg kecil),...\n",
              "15638    [' siung bawang merah', ' siung bawang putih',...\n",
              "15639    ['Stgah ikat kacang panjang,ku bli ribu d psr'...\n",
              "15640    [' bh dada ayam', '/ kg udang bersih', ' bh ba...\n",
              "Name: Ingredients, Length: 15593, dtype: object"
            ]
          },
          "metadata": {},
          "execution_count": 43
        }
      ]
    },
    {
      "cell_type": "code",
      "source": [
        "import nltk\n",
        "from nltk.corpus import stopwords "
      ],
      "metadata": {
        "id": "VEK6vyHVCAcr"
      },
      "execution_count": null,
      "outputs": []
    },
    {
      "cell_type": "code",
      "source": [
        "nltk.download('stopwords')"
      ],
      "metadata": {
        "colab": {
          "base_uri": "https://localhost:8080/"
        },
        "id": "oHR3t794CQhQ",
        "outputId": "5f2666cc-9f9c-40a4-be4d-c206b91a41c2"
      },
      "execution_count": null,
      "outputs": [
        {
          "output_type": "stream",
          "name": "stderr",
          "text": [
            "[nltk_data] Downloading package stopwords to /root/nltk_data...\n",
            "[nltk_data]   Unzipping corpora/stopwords.zip.\n"
          ]
        },
        {
          "output_type": "execute_result",
          "data": {
            "text/plain": [
              "True"
            ]
          },
          "metadata": {},
          "execution_count": 45
        }
      ]
    },
    {
      "cell_type": "code",
      "source": [
        "stopwords = ['diperlukan', 'hendaknya', 'tapi', 'dimungkinkan', 'hendaklah', 'umumnya', 'tambahnya', 'usai', 'katakan', 'sebagaimana', 'sekali', 'persoalan', 'waduh', 'bermaksud', 'jelaslah', 'ditanyai', 'tiba', 'terdahulu', 'menghendaki', 'tidak', 'sangatlah', 'kalaulah', 'rata', 'tadi', 'sendirinya', 'tersampaikan', 'sekadar', 'mengakhiri', 'mempergunakan', 'sedikit', 'sekali-kali', 'katakanlah', 'karenanya', 'oleh', 'semampunya', 'diakhirinya', 'kapanpun', 'setidaknya', 'disini', 'menaiki', 'tentunya', 'terbanyak', 'tak', 'secara', 'diibaratkannya', 'mengatakan', 'hendak', 'dikarenakan', 'sekarang', 'berturut', 'ditanyakan', 'terlihat', 'diperlukannya', 'sebuah', 'cuma', 'ingat-ingat', 'sesegera', 'mengerjakan', 'keinginan', 'berlebihan', 'apalagi', 'siapapun', 'enggaknya', 'lagi', 'diungkapkan', 'bisa', 'tentu', 'bersiap', 'dia', 'ia', 'ini', 'dituturkan', 'mendatang', 'semacam', 'sebenarnya', 'terutama', 'diibaratkan', 'tunjuk', 'inilah', 'diri', 'seterusnya', 'menandaskan', 'kenapa', 'dimulailah', 'mengibaratkan', 'wong', 'disinilah', 'bahkan', 'kelihatan', 'sudahkah', 'mempertanyakan', 'dalam', 'luar', 'memulai', 'mengucapkan', 'selalu', 'waktu', 'ataukah', 'wahai', 'beberapa', 'semuanya', 'mampu', 'sebagainya', 'memungkinkan', 'bukannya', 'jadi', 'menanyakan', 'percuma', 'bolehkah', 'sekurang-kurangnya', 'yakin', 'memperbuat', 'jadinya', 'belumlah', 'terdiri', 'menjadi', 'sekalipun', 'merekalah', 'melihat', 'terakhir', 'hari', 'wah', 'sesuatu', 'sebelum', 'mendapat', 'berapa', 'dulu', 'sudah', 'tidaklah', 'kurang', 'makanya', 'ditunjuk', 'akhiri', 'bila', 'sayalah', 'buat', 'segalanya', 'berjumlah', 'perlunya', 'apatah', 'begitukah', 'itu', 'cara', 'antara', 'sampaikan', 'amat', 'mulailah', 'tertentu', 'setibanya', 'tiga', 'maka', 'semasih', 'nyaris', 'masalah', 'sebaik-baiknya', 'pasti', 'tiba-tiba', 'awal', 'bermula', 'tegasnya', 'bukanlah', 'selamanya', 'bermacam', 'satu', 'merupakan', 'disampaikan', 'sebanyak', 'menuturkan', 'segera', 'diucapkan', 'mendatangi', 'dipergunakan', 'bertanya-tanya', 'berkata', 'memintakan', 'jelas', 'kapan', 'tanyanya', 'tetapi', 'anda', 'benar', 'semula', 'sejenak', 'perlu', 'semakin', 'memang', 'begini', 'kemudian', 'serupa', 'disebutkan', 'pun', 'turut', 'bahwasanya', 'pastilah', 'nanti', 'didatangkan', 'dan', 'sedangkan', 'dikira', 'tentang', 'tersebutlah', 'diminta', 'dituturkannya', 'cukup', 'lanjutnya', 'dibuatnya', 'ucapnya', 'baru', 'haruslah', 'meminta', 'dijelaskan', 'kelihatannya', 'lainnya', 'ada', 'ibaratnya', 'ingin', 'menyangkut', 'mendapatkan', 'pentingnya', 'dirinya', 'dialah', 'diantaranya', 'terjadilah', 'ditujukan', 'bahwa', 'nah', 'mengibaratkannya', 'terhadap', 'saat', 'ditanya', 'ikut', 'mulanya', 'bakalan', 'setiba', 'tiap', 'bagaimana', 'sela', 'diberikannya', 'hanya', 'mengingat', 'meski', 'sebutlah', 'diinginkan', 'kata', 'hingga', 'usah', 'dikatakannya', 'apabila', 'per', 'manakala', 'untuk', 'sebegini', 'yakni', 'bertanya', 'olehnya', 'dipersoalkan', 'digunakan', 'ibu', 'teringat-ingat', 'adalah', 'berikan', 'sedemikian', 'sepihak', 'tandasnya', 'tegas', 'berlainan', 'bekerja', 'dini', 'inikah', 'mendatangkan', 'seringnya', 'terjadi', 'belakang', 'lalu', 'bawah', 'kedua', 'berada', 'jelaskan', 'bersiap-siap', 'awalnya', 'asal', 'daripada', 'mungkinkah', 'boleh', 'tutur', 'tengah', 'kasus', 'berikutnya', 'masing-masing', 'keadaan', 'terjadinya', 'meyakini', 'juga', 'ditunjuki', 'manalagi', 'menunjukkan', 'namun', 'bertutur', 'sehingga', 'terus', 'jadilah', 'ternyata', 'sama-sama', 'ditandaskan', 'ibaratkan', 'mirip', 'melihatnya', 'berkali-kali', 'ataupun', 'nyatanya', 'dimulai', 'bagi', 'jawabnya', 'teringat', 'aku', 'tambah', 'sudahlah', 'inginkah', 'seluruh', 'terasa', 'berakhirlah', 'dipertanyakan', 'kan', 'menyampaikan', 'saling', 'dimisalkan', 'sementara', 'beginikah', 'memastikan', 'walaupun', 'dibuat', 'kitalah', 'berkehendak', 'bilakah', 'ujar', 'pertanyakan', 'sendiri', 'jauh', 'dipunyai', 'tanpa', 'kamu', 'menyebutkan', 'berkeinginan', 'seseorang', 'pernah', 'beri', 'siapa', 'termasuk', 'pantas', 'pertama-tama', 'kelamaan', 'memperkirakan', 'semasa', 'didapat', 'belakangan', 'malahan', 'misal', 'mengungkapkan', 'yang', 'menunjuknya', 'setinggi', 'jika', 'sekalian', 'sepantasnyalah', 'kecil', 'masa', 'mau', 'bolehlah', 'lebih', 'lewat', 'betulkah', 'menanti', 'dimaksudnya', 'sebelumnya', 'jumlahnya', 'ditegaskan', 'bukan', 'di', 'mempersiapkan', 'sebesar', 'sekecil', 'bagaimanapun', 'sedikitnya', 'melalui', 'lamanya', 'benarlah', 'misalkan', 'kapankah', 'tetap', 'lagian', 'andalah', 'mengenai', 'mulai', 'mereka', 'bersama-sama', 'selama', 'ucap', 'soal', 'banyak', 'berawal', 'misalnya', 'nantinya', 'berdatangan', 'diketahui', 'jangan', 'suatu', 'biasa', 'seluruhnya', 'menantikan', 'atau', 'diberi', 'seingat', 'adapun', 'diantara', 'sering', 'ditambahkan', 'tuturnya', 'jikalau', 'berlalu', 'sebaliknya', 'begitupun', 'naik', 'diucapkannya', 'kelima', 'sepanjang', 'setiap', 'toh', 'itulah', 'sebaiknya', 'rasa', 'akhir', 'bagaikan', 'panjang', 'bagai', 'lanjut', 'benarkah', 'macam', 'sejumlah', 'menanya', 'semisalnya', 'serta', 'berujar', 'dekat', 'amatlah', 'artinya', 'bagaimanakah', 'khususnya', 'bersama', 'tandas', 'sebisanya', 'sejauh', 'sekitar', 'telah', 'balik', 'itukah', 'terlalu', 'dimaksudkan', 'sesekali', 'sebutnya', 'katanya', 'tidakkah', 'disebutkannya', 'sesudah', 'tampak', 'kalian', 'secukupnya', 'jawab', 'saya', 'masih', 'melakukan', 'pak', 'pula', 'dengan', 'menunjuk', 'sinilah', 'kembali', 'agaknya', 'antaranya', 'jelasnya', 'mengucapkannya', 'gunakan', 'diperkirakan', 'semua', 'tadinya', 'bermacam-macam', 'sebetulnya', 'jangankan', 'apaan', 'caranya', 'berapapun', 'demi', 'diperbuat', 'diperbuatnya', 'kira-kira', 'menginginkan', 'keterlaluan', 'tempat', 'bakal', 'menegaskan', 'tertuju', 'perlukah', 'sebaik', 'kita', 'agar', 'ketika', 'terkira', 'kalau', 'keseluruhannya', 'cukupkah', 'paling', 'seberapa', 'dua', 'selain', 'menyiapkan', 'setelah', 'justru', 'diingat', 'akulah', 'berkenaan', 'walau', 'lah', 'beginian', 'akhirnya', 'dikatakan', 'berapalah', 'soalnya', 'menurut', 'tanyakan', 'menjawab', 'seorang', 'ditunjukkannya', 'apakah', 'tersebut', 'makin', 'mengapa', 'sebagai', 'hanyalah', 'sebegitu', 'cukuplah', 'bukankah', 'sambil', 'dimaksudkannya', 'sesuatunya', 'selama-lamanya', 'sesama', 'hal', 'terdapat', 'apa', 'ialah', 'baik', 'belum', 'setidak-tidaknya', 'bulan', 'menambahkan', 'lama', 'masalahnya', 'mempersoalkan', 'melainkan', 'dahulu', 'berapakah', 'kiranya', 'demikian', 'lain', 'seperlunya', 'tentulah', 'meskipun', 'selaku', 'agak', 'diakhiri', 'saatnya', 'depan', 'dong', 'ungkapnya', 'guna', 'sedang', 'saja', 'kesampaian', 'berikut', 'memisalkan', 'penting', 'mengetahui', 'sekaligus', 'akankah', 'karena', 'pertanyaan', 'harus', 'kemungkinannya', 'semaunya', 'para', 'bung', 'keduanya', 'lima', 'jumlah', 'menyatakan', 'siap', 'kinilah', 'dipastikan', 'memerlukan', 'keluar', 'sama', 'sini', 'datang', 'selanjutnya', 'sajalah', 'sesaat', 'diingatkan', 'dimulainya', 'kalaupun', 'mengingatkan', 'harusnya', 'setempat', 'diperlihatkan', 'inginkan', 'mengatakannya', 'menjelaskan', 'entahlah', 'merasa', 'kini', 'ke', 'pertama', 'seolah-olah', 'berbagai', 'terhadapnya', 'jawaban', 'dapat', 'kebetulan', 'sesudahnya', 'berturut-turut', 'sangat', 'sampai', 'padanya', 'waktunya', 'menanyai', 'demikianlah', 'biasanya', 'betul', 'disebut', 'dilakukan', 'kemungkinan', 'pada', 'padahal', 'empat', 'beginilah', 'sempat', 'minta', 'menuju', 'ditunjuknya', 'se', 'sekurangnya', 'sekadarnya', 'pihak', 'dilihat', 'seolah', 'seperti', 'kepadanya', 'dimaksud', 'bagian', 'enggak', 'punya', 'keseluruhan', 'mampukah', 'adanya', 'tepat', 'menanti-nanti', 'begitulah', 'terlebih', 'maupun', 'sewaktu', 'rasanya', 'semata', 'menunjuki', 'dari', 'kamulah', 'sejak', 'kala', 'sekitarnya', 'begitu', 'seharusnya', 'kok', 'sampai-sampai', 'ditunjukkan', 'mengira', 'masing', 'supaya', 'diketahuinya', 'pukul', 'menyeluruh', 'semata-mata', 'berlangsung', 'tahun', 'diberikan', 'rupanya', 'tampaknya', 'menggunakan', 'atas', 'bisakah', 'tinggi', 'kamilah', 'mempunyai', 'pihaknya', 'berakhir', 'sepertinya', 'ujarnya', 'dikerjakan', 'sana', 'ungkap', 'berakhirnya', 'seketika', 'siapakah', 'umum', 'meyakinkan', 'sebabnya', 'membuat', 'dijelaskannya', 'kira', 'kepada', 'yaitu', 'seenaknya', 'malah', 'ibarat', 'janganlah', 'memihak', 'memberi', 'berarti', 'semampu', 'entah', 'sebut', 'segala', 'mungkin', 'memperlihatkan', 'sekiranya', 'hampir', 'tanya', 'berupa', 'sebagian', 'akan', 'semisal', 'besar', 'sebab', 'sesampai', 'dijawab', 'ingat', 'asalkan', 'sepantasnya', 'setengah', 'tahu', 'antar', 'dilalui', 'mana', 'seusai', 'masihkah', 'mula', 'memberikan', 'sendirian', 'kami', 'dimintai', 'bapak']"
      ],
      "metadata": {
        "id": "E_aJ7XHiY5fA"
      },
      "execution_count": null,
      "outputs": []
    },
    {
      "cell_type": "code",
      "source": [
        "len(stopwords)"
      ],
      "metadata": {
        "colab": {
          "base_uri": "https://localhost:8080/"
        },
        "id": "RDUCGrb_DBlh",
        "outputId": "f08dad9e-fff7-409e-aa40-bb1e5b984950"
      },
      "execution_count": null,
      "outputs": [
        {
          "output_type": "execute_result",
          "data": {
            "text/plain": [
              "757"
            ]
          },
          "metadata": {},
          "execution_count": 47
        }
      ]
    },
    {
      "cell_type": "code",
      "source": [
        "from sklearn.feature_extraction.text import CountVectorizer \n",
        "#only work with merged ingredients dataset (from all 3 sources) for now\n",
        "corpus = data_in\n",
        "ct_vectorizer = CountVectorizer(stop_words=stopwords)\n",
        "\n",
        "ingr_ct = ct_vectorizer.fit_transform(corpus)"
      ],
      "metadata": {
        "id": "Xy2tg6xyDLjb",
        "colab": {
          "base_uri": "https://localhost:8080/"
        },
        "outputId": "fcdb0681-c359-43d6-a333-91f6c2dbee9f"
      },
      "execution_count": null,
      "outputs": [
        {
          "output_type": "stream",
          "name": "stderr",
          "text": [
            "/usr/local/lib/python3.10/dist-packages/sklearn/feature_extraction/text.py:409: UserWarning: Your stop_words may be inconsistent with your preprocessing. Tokenizing the stop words generated tokens ['baiknya', 'berkali', 'kali', 'kurangnya', 'mata', 'olah', 'sekurang', 'setidak', 'tama', 'tidaknya'] not in stop_words.\n",
            "  warnings.warn(\n"
          ]
        }
      ]
    },
    {
      "cell_type": "code",
      "source": [
        "from sklearn.decomposition import TruncatedSVD\n",
        "lsa_10 = TruncatedSVD(10)  \n",
        "rb_lsa_10 = lsa_10.fit_transform(ingr_ct)\n",
        "lsa_10.explained_variance_ratio_"
      ],
      "metadata": {
        "colab": {
          "base_uri": "https://localhost:8080/"
        },
        "id": "mk0EMoHEHY07",
        "outputId": "43cd1114-f0f7-42dd-c7c4-608ea6ca6103"
      },
      "execution_count": null,
      "outputs": [
        {
          "output_type": "execute_result",
          "data": {
            "text/plain": [
              "array([0.07891018, 0.06867555, 0.04801047, 0.03910342, 0.03061753,\n",
              "       0.02787532, 0.02569249, 0.02139155, 0.01923707, 0.01821318])"
            ]
          },
          "metadata": {},
          "execution_count": 49
        }
      ]
    },
    {
      "cell_type": "code",
      "source": [
        "def display_topics(model, feature_names, no_top_words, topic_names=None):\n",
        "    for ix, topic in enumerate(model.components_):\n",
        "        if not topic_names or not topic_names[ix]:\n",
        "            print(\"\\nTopic \", ix)\n",
        "        else:\n",
        "            print(\"\\nTopic: '\",topic_names[ix],\"'\")\n",
        "        print(\", \".join([feature_names[i]\n",
        "                        for i in topic.argsort()[:-no_top_words - 1:-1]]))"
      ],
      "metadata": {
        "id": "erSOw_hOHpv2"
      },
      "execution_count": null,
      "outputs": []
    },
    {
      "cell_type": "code",
      "source": [
        "display_topics(lsa_10, ct_vectorizer.get_feature_names(), 10) "
      ],
      "metadata": {
        "colab": {
          "base_uri": "https://localhost:8080/",
          "height": 172
        },
        "id": "8sviWNLpHlQ-",
        "outputId": "9c8dc9a3-5f1f-4ffa-bb05-9da5c12b5372"
      },
      "execution_count": null,
      "outputs": [
        {
          "output_type": "error",
          "ename": "AttributeError",
          "evalue": "ignored",
          "traceback": [
            "\u001b[0;31m---------------------------------------------------------------------------\u001b[0m",
            "\u001b[0;31mAttributeError\u001b[0m                            Traceback (most recent call last)",
            "\u001b[0;32m<ipython-input-51-9e57abde3d37>\u001b[0m in \u001b[0;36m<cell line: 1>\u001b[0;34m()\u001b[0m\n\u001b[0;32m----> 1\u001b[0;31m \u001b[0mdisplay_topics\u001b[0m\u001b[0;34m(\u001b[0m\u001b[0mlsa_10\u001b[0m\u001b[0;34m,\u001b[0m \u001b[0mct_vectorizer\u001b[0m\u001b[0;34m.\u001b[0m\u001b[0mget_feature_names\u001b[0m\u001b[0;34m(\u001b[0m\u001b[0;34m)\u001b[0m\u001b[0;34m,\u001b[0m \u001b[0;36m10\u001b[0m\u001b[0;34m)\u001b[0m\u001b[0;34m\u001b[0m\u001b[0;34m\u001b[0m\u001b[0m\n\u001b[0m",
            "\u001b[0;31mAttributeError\u001b[0m: 'CountVectorizer' object has no attribute 'get_feature_names'"
          ]
        }
      ]
    },
    {
      "cell_type": "code",
      "source": [
        "dff.iloc[3]"
      ],
      "metadata": {
        "id": "sFbCXl4_IQPe"
      },
      "execution_count": null,
      "outputs": []
    },
    {
      "cell_type": "code",
      "source": [
        "data_in[3]"
      ],
      "metadata": {
        "id": "W_KGDsEPIWoo"
      },
      "execution_count": null,
      "outputs": []
    },
    {
      "cell_type": "code",
      "source": [
        "dff.head()"
      ],
      "metadata": {
        "id": "o7E7ib1OnJkc"
      },
      "execution_count": null,
      "outputs": []
    },
    {
      "cell_type": "code",
      "source": [
        "dff['Ingredients'] = dff['Ingredients'].apply(lambda x: [re.sub(r'\\d', '', item) for item in x])"
      ],
      "metadata": {
        "id": "YzcFJNCboYhM"
      },
      "execution_count": null,
      "outputs": []
    },
    {
      "cell_type": "code",
      "source": [
        "dff.head()"
      ],
      "metadata": {
        "colab": {
          "base_uri": "https://localhost:8080/",
          "height": 206
        },
        "id": "FK3liREzoeNI",
        "outputId": "9dfefedc-a431-4b6e-c761-a76eba9a89ac"
      },
      "execution_count": null,
      "outputs": [
        {
          "output_type": "execute_result",
          "data": {
            "text/plain": [
              "                      Title  \\\n",
              "0          Ayam Woku Manado   \n",
              "1  Ayam goreng tulang lunak   \n",
              "2          Ayam cabai kawin   \n",
              "3               Ayam Geprek   \n",
              "4               Minyak Ayam   \n",
              "\n",
              "                                         Ingredients  \\\n",
              "0  1 Ekor Ayam Kampung (potong 12) 2 Buah Jeruk N...   \n",
              "1  1 kg ayam (dipotong sesuai selera jangan kecil...   \n",
              "2  1/4 kg ayam 3 buah cabai hijau besar 7 buah ca...   \n",
              "3  250 gr daging ayam (saya pakai fillet) Secukup...   \n",
              "4  400 gr kulit ayam & lemaknya 8 siung bawang pu...   \n",
              "\n",
              "                                               Steps  \n",
              "0  Cuci bersih ayam dan tiriskan. Lalu peras jeru...  \n",
              "1  Haluskan bumbu2nya (BaPut, ketumbar, kemiri, k...  \n",
              "2  Panaskan minyak di dalam wajan. Setelah minyak...  \n",
              "3  Goreng ayam seperti ayam krispi--Ulek semua ba...  \n",
              "4  Cuci bersih kulit ayam. Sisihkan--Ambil 50 ml ...  "
            ],
            "text/html": [
              "\n",
              "  <div id=\"df-a444cb26-1c45-44df-a769-0fb33363a83c\">\n",
              "    <div class=\"colab-df-container\">\n",
              "      <div>\n",
              "<style scoped>\n",
              "    .dataframe tbody tr th:only-of-type {\n",
              "        vertical-align: middle;\n",
              "    }\n",
              "\n",
              "    .dataframe tbody tr th {\n",
              "        vertical-align: top;\n",
              "    }\n",
              "\n",
              "    .dataframe thead th {\n",
              "        text-align: right;\n",
              "    }\n",
              "</style>\n",
              "<table border=\"1\" class=\"dataframe\">\n",
              "  <thead>\n",
              "    <tr style=\"text-align: right;\">\n",
              "      <th></th>\n",
              "      <th>Title</th>\n",
              "      <th>Ingredients</th>\n",
              "      <th>Steps</th>\n",
              "    </tr>\n",
              "  </thead>\n",
              "  <tbody>\n",
              "    <tr>\n",
              "      <th>0</th>\n",
              "      <td>Ayam Woku Manado</td>\n",
              "      <td>1 Ekor Ayam Kampung (potong 12) 2 Buah Jeruk N...</td>\n",
              "      <td>Cuci bersih ayam dan tiriskan. Lalu peras jeru...</td>\n",
              "    </tr>\n",
              "    <tr>\n",
              "      <th>1</th>\n",
              "      <td>Ayam goreng tulang lunak</td>\n",
              "      <td>1 kg ayam (dipotong sesuai selera jangan kecil...</td>\n",
              "      <td>Haluskan bumbu2nya (BaPut, ketumbar, kemiri, k...</td>\n",
              "    </tr>\n",
              "    <tr>\n",
              "      <th>2</th>\n",
              "      <td>Ayam cabai kawin</td>\n",
              "      <td>1/4 kg ayam 3 buah cabai hijau besar 7 buah ca...</td>\n",
              "      <td>Panaskan minyak di dalam wajan. Setelah minyak...</td>\n",
              "    </tr>\n",
              "    <tr>\n",
              "      <th>3</th>\n",
              "      <td>Ayam Geprek</td>\n",
              "      <td>250 gr daging ayam (saya pakai fillet) Secukup...</td>\n",
              "      <td>Goreng ayam seperti ayam krispi--Ulek semua ba...</td>\n",
              "    </tr>\n",
              "    <tr>\n",
              "      <th>4</th>\n",
              "      <td>Minyak Ayam</td>\n",
              "      <td>400 gr kulit ayam &amp; lemaknya 8 siung bawang pu...</td>\n",
              "      <td>Cuci bersih kulit ayam. Sisihkan--Ambil 50 ml ...</td>\n",
              "    </tr>\n",
              "  </tbody>\n",
              "</table>\n",
              "</div>\n",
              "      <button class=\"colab-df-convert\" onclick=\"convertToInteractive('df-a444cb26-1c45-44df-a769-0fb33363a83c')\"\n",
              "              title=\"Convert this dataframe to an interactive table.\"\n",
              "              style=\"display:none;\">\n",
              "        \n",
              "  <svg xmlns=\"http://www.w3.org/2000/svg\" height=\"24px\"viewBox=\"0 0 24 24\"\n",
              "       width=\"24px\">\n",
              "    <path d=\"M0 0h24v24H0V0z\" fill=\"none\"/>\n",
              "    <path d=\"M18.56 5.44l.94 2.06.94-2.06 2.06-.94-2.06-.94-.94-2.06-.94 2.06-2.06.94zm-11 1L8.5 8.5l.94-2.06 2.06-.94-2.06-.94L8.5 2.5l-.94 2.06-2.06.94zm10 10l.94 2.06.94-2.06 2.06-.94-2.06-.94-.94-2.06-.94 2.06-2.06.94z\"/><path d=\"M17.41 7.96l-1.37-1.37c-.4-.4-.92-.59-1.43-.59-.52 0-1.04.2-1.43.59L10.3 9.45l-7.72 7.72c-.78.78-.78 2.05 0 2.83L4 21.41c.39.39.9.59 1.41.59.51 0 1.02-.2 1.41-.59l7.78-7.78 2.81-2.81c.8-.78.8-2.07 0-2.86zM5.41 20L4 18.59l7.72-7.72 1.47 1.35L5.41 20z\"/>\n",
              "  </svg>\n",
              "      </button>\n",
              "      \n",
              "  <style>\n",
              "    .colab-df-container {\n",
              "      display:flex;\n",
              "      flex-wrap:wrap;\n",
              "      gap: 12px;\n",
              "    }\n",
              "\n",
              "    .colab-df-convert {\n",
              "      background-color: #E8F0FE;\n",
              "      border: none;\n",
              "      border-radius: 50%;\n",
              "      cursor: pointer;\n",
              "      display: none;\n",
              "      fill: #1967D2;\n",
              "      height: 32px;\n",
              "      padding: 0 0 0 0;\n",
              "      width: 32px;\n",
              "    }\n",
              "\n",
              "    .colab-df-convert:hover {\n",
              "      background-color: #E2EBFA;\n",
              "      box-shadow: 0px 1px 2px rgba(60, 64, 67, 0.3), 0px 1px 3px 1px rgba(60, 64, 67, 0.15);\n",
              "      fill: #174EA6;\n",
              "    }\n",
              "\n",
              "    [theme=dark] .colab-df-convert {\n",
              "      background-color: #3B4455;\n",
              "      fill: #D2E3FC;\n",
              "    }\n",
              "\n",
              "    [theme=dark] .colab-df-convert:hover {\n",
              "      background-color: #434B5C;\n",
              "      box-shadow: 0px 1px 3px 1px rgba(0, 0, 0, 0.15);\n",
              "      filter: drop-shadow(0px 1px 2px rgba(0, 0, 0, 0.3));\n",
              "      fill: #FFFFFF;\n",
              "    }\n",
              "  </style>\n",
              "\n",
              "      <script>\n",
              "        const buttonEl =\n",
              "          document.querySelector('#df-a444cb26-1c45-44df-a769-0fb33363a83c button.colab-df-convert');\n",
              "        buttonEl.style.display =\n",
              "          google.colab.kernel.accessAllowed ? 'block' : 'none';\n",
              "\n",
              "        async function convertToInteractive(key) {\n",
              "          const element = document.querySelector('#df-a444cb26-1c45-44df-a769-0fb33363a83c');\n",
              "          const dataTable =\n",
              "            await google.colab.kernel.invokeFunction('convertToInteractive',\n",
              "                                                     [key], {});\n",
              "          if (!dataTable) return;\n",
              "\n",
              "          const docLinkHtml = 'Like what you see? Visit the ' +\n",
              "            '<a target=\"_blank\" href=https://colab.research.google.com/notebooks/data_table.ipynb>data table notebook</a>'\n",
              "            + ' to learn more about interactive tables.';\n",
              "          element.innerHTML = '';\n",
              "          dataTable['output_type'] = 'display_data';\n",
              "          await google.colab.output.renderOutput(dataTable, element);\n",
              "          const docLink = document.createElement('div');\n",
              "          docLink.innerHTML = docLinkHtml;\n",
              "          element.appendChild(docLink);\n",
              "        }\n",
              "      </script>\n",
              "    </div>\n",
              "  </div>\n",
              "  "
            ]
          },
          "metadata": {},
          "execution_count": 57
        }
      ]
    },
    {
      "cell_type": "code",
      "source": [
        "from sklearn.feature_extraction.text import TfidfVectorizer\n",
        "from sklearn.metrics.pairwise import cosine_similarity"
      ],
      "metadata": {
        "id": "ghGezAUuo0vY"
      },
      "execution_count": null,
      "outputs": []
    },
    {
      "cell_type": "code",
      "source": [
        "dff['Ingredients'] = dff['Ingredients'].apply(lambda x: ' '.join(x))"
      ],
      "metadata": {
        "id": "vXgwn7vKpiOu"
      },
      "execution_count": null,
      "outputs": []
    },
    {
      "cell_type": "code",
      "source": [
        "vectorizer = TfidfVectorizer()\n",
        "tfidf_matrix = vectorizer.fit_transform(dff['Ingredients'])"
      ],
      "metadata": {
        "id": "tic4lrSOpmci"
      },
      "execution_count": null,
      "outputs": []
    },
    {
      "cell_type": "code",
      "source": [
        "from sklearn.feature_extraction.text import TfidfVectorizer\n",
        "import joblib\n",
        "joblib.dump(vectorizer, 'vectorizer_model.pkl')\n",
        "joblib.dump(tfidf_matrix, 'tfidf_matrix.pkl')"
      ],
      "metadata": {
        "colab": {
          "base_uri": "https://localhost:8080/"
        },
        "id": "RxqdW-lvyy6k",
        "outputId": "88584b6f-7ab2-4706-bfc9-0eda5c076db1"
      },
      "execution_count": null,
      "outputs": [
        {
          "output_type": "execute_result",
          "data": {
            "text/plain": [
              "['tfidf_matrix.pkl']"
            ]
          },
          "metadata": {},
          "execution_count": 61
        }
      ]
    },
    {
      "cell_type": "code",
      "source": [
        "# Fungsi untuk merekomendasikan resep berdasarkan ingredients yang diinputkan\n",
        "def recommend_recipes(input_ingredients, n=5):\n",
        "    # Preprocessing input pengguna\n",
        "    input_ingredients = ' '.join(input_ingredients)\n",
        "\n",
        "    # Menghitung kemiripan cosine antara input pengguna dengan resep-resep dalam dataset\n",
        "    input_tfidf = vectorizer.transform([input_ingredients])\n",
        "    similarities = cosine_similarity(input_tfidf, tfidf_matrix)\n",
        "\n",
        "    # Mengambil indeks resep yang paling mirip\n",
        "    similar_indices = similarities.argsort()[0][::-1][:n]\n",
        "\n",
        "    # Mengembalikan rekomendasi resep\n",
        "    recommended_recipes = df.iloc[similar_indices]['Title'].tolist()\n",
        "    return recommended_recipes"
      ],
      "metadata": {
        "id": "pfHEx_0Hps98"
      },
      "execution_count": null,
      "outputs": []
    },
    {
      "cell_type": "code",
      "source": [
        "user_input = ['ayam', 'jeruk', 'Garam', 'kunyit', 'Bawang Merah', 'Daun Kemangi', \n",
        "              'Ekor Ayam Kampung (potong )', 'Buah Jeruk Nipis', 'Sdm Garam', 'Ruas Kunyit', 'Bawang Merah', 'Bawang Putih', 'Cabe Merah', \n",
        "              'Cabe Rawit Merah (sesuai selera)', 'Butir Kemiri', 'Batang Sereh', 'Lembar Daun Salam', 'Ikat Daun Kemangi','Penyedap Rasa']  # Contoh input pengguna\n",
        "recommendations = recommend_recipes(user_input, n=5)\n",
        "\n",
        "# Menampilkan rekomendasi resep\n",
        "print(\"Rekomendasi Resep:\")\n",
        "for recipe in recommendations:\n",
        "    print(recipe)"
      ],
      "metadata": {
        "colab": {
          "base_uri": "https://localhost:8080/"
        },
        "id": "j6nBLPd0pv_3",
        "outputId": "eb493e37-0042-4316-eb56-4f774c55a948"
      },
      "execution_count": null,
      "outputs": [
        {
          "output_type": "stream",
          "name": "stdout",
          "text": [
            "Rekomendasi Resep:\n",
            "Ayam Woku Manado\n",
            "Ayam Woku\n",
            "Pepes Ayam Bumbu Rempah\n",
            "Lele kuning kuah kemangi\n",
            "Ikan tongkol kemangi\n"
          ]
        }
      ]
    },
    {
      "cell_type": "code",
      "source": [
        "vectorizer = TfidfVectorizer()\n",
        "tfidf_matrix = vectorizer.fit_transform(dff['Ingredients'])"
      ],
      "metadata": {
        "id": "X9QdUeWI3dCZ"
      },
      "execution_count": null,
      "outputs": []
    },
    {
      "cell_type": "code",
      "source": [
        "vectorizer = joblib.load('vectorizer_model.pkl')\n",
        "tfidf_matrix = joblib.load('tfidf_matrix.pkl')"
      ],
      "metadata": {
        "id": "y_4yUVvtzETT"
      },
      "execution_count": null,
      "outputs": []
    },
    {
      "cell_type": "code",
      "source": [
        "with open('vectorizer_model.pkl', 'wb') as file:\n",
        "    pickle.dump(vectorizer, file)"
      ],
      "metadata": {
        "id": "EoPrqwUV3TM5"
      },
      "execution_count": null,
      "outputs": []
    },
    {
      "cell_type": "code",
      "source": [
        "with open('tfidf_matrix.pkl', 'wb') as file:\n",
        "    pickle.dump(tfidf_matrix, file)"
      ],
      "metadata": {
        "id": "mKUt5jfT3Weq"
      },
      "execution_count": null,
      "outputs": []
    },
    {
      "cell_type": "code",
      "source": [
        "# Fungsi untuk merekomendasikan resep berdasarkan ingredients yang diinputkan\n",
        "def recommend_recipes(input_ingredients, n=5):\n",
        "    # Preprocessing input pengguna\n",
        "    input_ingredients = ' '.join(input_ingredients)\n",
        "\n",
        "    # Menghitung kemiripan cosine antara input pengguna dengan resep-resep dalam dataset\n",
        "    input_tfidf = vectorizer.transform([input_ingredients])\n",
        "    similarities = cosine_similarity(input_tfidf, tfidf_matrix)\n",
        "\n",
        "    # Mengambil indeks resep yang paling mirip\n",
        "    similar_indices = similarities.argsort()[0][::-1][:n]\n",
        "\n",
        "    # Mengembalikan rekomendasi resep\n",
        "    recommended_recipes = df.iloc[similar_indices]['Title'].tolist()\n",
        "    return recommended_recipes"
      ],
      "metadata": {
        "id": "awPEly9DzN4p"
      },
      "execution_count": null,
      "outputs": []
    },
    {
      "cell_type": "code",
      "source": [
        "user_input = ['ayam', 'jeruk', 'Garam', 'kunyit', 'Bawang Merah', 'Daun Kemangi', \n",
        "              'Ekor Ayam Kampung (potong )', 'Buah Jeruk Nipis', 'Sdm Garam', 'Ruas Kunyit', 'Bawang Merah', 'Bawang Putih', 'Cabe Merah', \n",
        "              'Cabe Rawit Merah (sesuai selera)', 'Butir Kemiri', 'Batang Sereh', 'Lembar Daun Salam', 'Ikat Daun Kemangi','Penyedap Rasa']  # Contoh input pengguna\n",
        "recommendations = recommend_recipes(user_input, n=5)\n",
        "\n",
        "# Menampilkan rekomendasi resep\n",
        "print(\"Rekomendasi Resep:\")\n",
        "for recipe in recommendations:\n",
        "    print(recipe)"
      ],
      "metadata": {
        "colab": {
          "base_uri": "https://localhost:8080/"
        },
        "id": "rfJS25cM2J3H",
        "outputId": "59b5c79b-2d0f-4fe0-a7b7-716a77dabdc1"
      },
      "execution_count": null,
      "outputs": [
        {
          "output_type": "stream",
          "name": "stdout",
          "text": [
            "Rekomendasi Resep:\n",
            "Ayam Woku Manado\n",
            "Ayam Woku\n",
            "Pepes Ayam Bumbu Rempah\n",
            "Lele kuning kuah kemangi\n",
            "Ikan tongkol kemangi\n"
          ]
        }
      ]
    },
    {
      "cell_type": "code",
      "source": [
        "import pickle\n",
        "\n",
        "# Create an object to pickle\n",
        "data = [1, 2, 3, 4, 5]\n",
        "\n",
        "# Pickle the object\n",
        "with open('data.pkl', 'wb') as file:\n",
        "    pickle.dump(data, file)\n",
        "\n",
        "# Unpickle the object\n",
        "with open('data.pkl', 'rb') as file:\n",
        "    loaded_data = pickle.load(file)\n",
        "\n",
        "# Print the loaded data\n",
        "print(loaded_data)"
      ],
      "metadata": {
        "colab": {
          "base_uri": "https://localhost:8080/"
        },
        "id": "sCzJQrc83Ib5",
        "outputId": "df37058a-2dc5-46bf-dfc3-88abe9bced2c"
      },
      "execution_count": null,
      "outputs": [
        {
          "output_type": "stream",
          "name": "stdout",
          "text": [
            "[1, 2, 3, 4, 5]\n"
          ]
        }
      ]
    },
    {
      "cell_type": "code",
      "source": [
        "!python ‐‐version"
      ],
      "metadata": {
        "colab": {
          "base_uri": "https://localhost:8080/"
        },
        "id": "0K5rVVVP4FzB",
        "outputId": "09e441d9-1c8f-4acb-ad35-e64afa1b9ac1"
      },
      "execution_count": null,
      "outputs": [
        {
          "output_type": "stream",
          "name": "stdout",
          "text": [
            "python3: can't open file '/content/‐‐version': [Errno 2] No such file or directory\n"
          ]
        }
      ]
    }
  ]
}